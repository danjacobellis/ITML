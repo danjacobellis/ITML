{
 "cells": [
  {
   "cell_type": "markdown",
   "id": "80393244-ca7f-4071-82a9-9554c4987926",
   "metadata": {},
   "source": [
    "# Compressed Learning\n",
    "\n",
    "[original proposal](https://danjacobellis.net/ITML/_static/proposal.pdf)"
   ]
  },
  {
   "cell_type": "markdown",
   "id": "b908ab55-ed7f-4077-aa95-bb8d9e896423",
   "metadata": {},
   "source": [
    "## Lossy compression standards\n",
    "\n",
    "While hundereds of lossy compression techniques have been standardized, only a few have been widely deployed. We will put aside inter-frame video compression for now and focus on audio, image, and intra-frame video compression since our goal is to exploit the transform and quantization steps.\n",
    "\n",
    "| Standard       | Introduced | Signal | Transform         | Quantization                   |\n",
    "|----------------|------------|--------|-------------------|--------------------------------|\n",
    "| MPEG Layer III | 1991       | Audio  | block DCT and FFT | Perceptual quantization vector |\n",
    "| JPEG           | 1992       | Image  | block DCT         | Perceptual quantization matrix |\n",
    "| JPEG 2000      | 2000       | Image  | Separable Wavelet | Scalar quantization            |\n",
    "| CELT/Opus      | 2011       | Audio  | block DCT         | Pyramid vector quantization    |\n",
    "| HEVC           | 2013       | Image  | block DCT and DST | Perceptual quantization matrix |\n",
    "| Soundstream    | 2021       | Audio  | Learned           | Residual vector quantization   |\n",
    "\n",
    "</center> Table 1. Summary of transform and quantization techniques used in some lossy compression standards. </center>"
   ]
  },
  {
   "cell_type": "markdown",
   "id": "7d226ce1-0c4d-4d03-aa24-bdc3123ea42c",
   "metadata": {},
   "source": [
    "### Transforms\n",
    "\n",
    "The block DCT and its variants dominate among commonly used codecs. Some notable exceptions are:\n",
    "\n",
    "* JPEG 2000 (which is the standard for digital cinema where inter-frame compression is forbidden). The separable wavelet transform used in JPEG 2000 still suffers many of the sample limitations of DCT-based transforms. Although complex wavelet transforms allow sparse representations of singularities or oriented components, none have become popular for lossy compression.\n",
    "* Low rate speech codecs focus on modeling properties of human voice (pitch, formants, etc) but are not suitable for other types of signals like music.\n",
    "* Emerging standards which use learned transforms. Soundstream (Google) and Encodec (META), based on the vector quantized VAE, have recently become standardized. It's possible that learned image and video codecs will soon become standardized as well."
   ]
  },
  {
   "cell_type": "markdown",
   "id": "34a7694f-8fd2-48bb-a6c4-8c4cacdc9b72",
   "metadata": {},
   "source": [
    "### Quantization\n",
    "\n",
    "Tthe dominant approach to quantization is to define a perceptual quantization matrix (or vector) $Q$ and perform the simple quantization $B = round(\\frac{G}{Q})$, where $G$ is the transformed signal and $B$ is the quantizated representation.\n",
    "\n",
    "However, variants of vector quantization are now being deployed in standards:\n",
    "\n",
    "* CELT (now integrated into the OPUS standard) normalizes transform coefficients to one, then separately codes the unit vector from the magnitude. This allows the use of pyramid vector quantization which is much more efficient but only applicable to unit vectors.\n",
    "* Soundstream uses several low-complexity vector quantizers, each predicting the residual of the previous.\n"
   ]
  },
  {
   "cell_type": "markdown",
   "id": "9fc2f8f3-67f2-4c0f-a11a-b7f3dd8ad3a4",
   "metadata": {},
   "source": [
    "## Why integrate compression and learning?\n",
    "\n",
    "Consider the task of image classification on ImageNet or a similar dataset. If 1000 classes are represented in the dataset and each class is equally likely, then the class information is about $H_{\\text{class}}\\approx$ \n",
    "\n",
    "using the original AlexNet architecture. Strided convolutional layers and pooling reduce the dimensionalty from 224x224x3 at the input to feature maps of size 3x3x256 at the output. This reduction in size greatly reduces the cost of learning the fully connected layers which predict the image class. All values are represented as 32-bit floating point during training, so the convolutional layers increase the density of class related in"
   ]
  },
  {
   "cell_type": "markdown",
   "id": "8eb90bb8-aad8-48d6-b129-05c927de6b66",
   "metadata": {},
   "source": [
    "## Approaches to integrating compression and learning\n",
    "\n",
    "A core challenge to learning from compressed data is that, in the conventional approach to DNN optimization, all input samples are represented using floating point. This approach was popularized because of the convenience and power of GPUs which provide high throughput 32-bit floating point computation. Although 16-bit float hardware is now widely available and 8-bit floating point standards are on the horizon, lowering the precision leads to significant issues representing gradients during optimization.\n",
    "\n",
    "For example, consider the convolutional layers of the original AlexNet. 224x224x3 images at the input are reduced to 3x3x256 feature maps. \n",
    "\n",
    "Suppose that the inputs are 128x128 RGB Although the input size is much larger than the output, when properly trained, the amount of class information should be roughly the same. In other words, the function of the layers is to increase the information density of the class.\n",
    "\n",
    "Now consider the same operation"
   ]
  },
  {
   "cell_type": "markdown",
   "id": "96e6ff1e-b30b-4b63-a885-5366380827d7",
   "metadata": {},
   "source": [
    "\n",
    "## Standardized ML compression techniques\n",
    "\n",
    "## Natural signal representation modeling\n",
    "\n",
    "## Approaches to integrating compression and learning\n",
    "\n",
    "## Comparison of learned filters with conventional transforms"
   ]
  },
  {
   "cell_type": "markdown",
   "id": "a6ed05ae-c7dd-40aa-a9ba-74498ae9575d",
   "metadata": {},
   "source": [
    "## References\n",
    "\n",
    "[Dictionaries for Sparse Representation Modeling (2010)](https://ieeexplore.ieee.org/abstract/document/5452966)\n",
    "\n",
    "[End-to-end Optimized Image Compression (2017)](https://www.cns.nyu.edu/~lcv/iclr2017/)\n",
    "\n",
    "[SoundStream: An End-to-End Neural Audio Codec (2022)](https://ieeexplore.ieee.org/abstract/document/9625818)"
   ]
  }
 ],
 "metadata": {
  "kernelspec": {
   "display_name": "Python 3 (ipykernel)",
   "language": "python",
   "name": "python3"
  },
  "language_info": {
   "codemirror_mode": {
    "name": "ipython",
    "version": 3
   },
   "file_extension": ".py",
   "mimetype": "text/x-python",
   "name": "python",
   "nbconvert_exporter": "python",
   "pygments_lexer": "ipython3",
   "version": "3.10.6"
  }
 },
 "nbformat": 4,
 "nbformat_minor": 5
}

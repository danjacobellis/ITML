{
 "cells": [
  {
   "cell_type": "code",
   "execution_count": 1,
   "id": "318f0f9f-3f2a-49ef-be37-2cf2157169af",
   "metadata": {},
   "outputs": [],
   "source": [
    "import matplotlib.pyplot as plt"
   ]
  },
  {
   "cell_type": "code",
   "execution_count": 3,
   "id": "e552620d-51b5-4e85-98df-ec90cf696c1a",
   "metadata": {},
   "outputs": [],
   "source": [
    "from common_functions import *"
   ]
  },
  {
   "cell_type": "code",
   "execution_count": 5,
   "id": "26f3bcf8-0eed-42a3-97a3-4d1bdb3a834d",
   "metadata": {},
   "outputs": [
    {
     "name": "stdout",
     "output_type": "stream",
     "text": [
      "Found 8000 files belonging to 8 classes.\n",
      "Using 6400 files for training.\n",
      "Using 1600 files for validation.\n"
     ]
    }
   ],
   "source": [
    "X, y, Xv, yv = load_mini_speech_commands()\n",
    "def slog(x):\n",
    "    return np.log(1+np.abs(x))*np.sign(x)\n",
    "def ulog(x):\n",
    "    return np.log(1+np.abs(x))\n",
    "# X = ulog(X)\n",
    "# Xv = ulog(Xv)"
   ]
  },
  {
   "cell_type": "code",
   "execution_count": 27,
   "id": "f16d19c8-bdc8-41bf-a00f-daaff7c2b414",
   "metadata": {},
   "outputs": [
    {
     "name": "stdout",
     "output_type": "stream",
     "text": [
      "Model: \"sequential_1\"\n",
      "_________________________________________________________________\n",
      " Layer (type)                Output Shape              Param #   \n",
      "=================================================================\n",
      " resizing_1 (Resizing)       (None, 32, 32, 1)         0         \n",
      "                                                                 \n",
      " normalization_1 (Normalizat  (None, 32, 32, 128)      257       \n",
      " ion)                                                            \n",
      "                                                                 \n",
      " conv2d_2 (Conv2D)           (None, 30, 30, 32)        36896     \n",
      "                                                                 \n",
      " conv2d_3 (Conv2D)           (None, 28, 28, 64)        18496     \n",
      "                                                                 \n",
      " max_pooling2d_1 (MaxPooling  (None, 14, 14, 64)       0         \n",
      " 2D)                                                             \n",
      "                                                                 \n",
      " dropout_2 (Dropout)         (None, 14, 14, 64)        0         \n",
      "                                                                 \n",
      " flatten_1 (Flatten)         (None, 12544)             0         \n",
      "                                                                 \n",
      " dense_2 (Dense)             (None, 128)               1605760   \n",
      "                                                                 \n",
      " dropout_3 (Dropout)         (None, 128)               0         \n",
      "                                                                 \n",
      " dense_3 (Dense)             (None, 8)                 1032      \n",
      "                                                                 \n",
      "=================================================================\n",
      "Total params: 1,662,441\n",
      "Trainable params: 1,662,184\n",
      "Non-trainable params: 257\n",
      "_________________________________________________________________\n"
     ]
    }
   ],
   "source": [
    "norm_layer =layers.Normalization()\n",
    "norm_layer.adapt(data=X)\n",
    "\n",
    "model = models.Sequential([\n",
    "    layers.Input(shape=(128,128,1)),\n",
    "    # Downsample the input.\n",
    "    layers.Resizing(32, 32),\n",
    "    # Normalize.\n",
    "    norm_layer,\n",
    "    layers.Conv2D(32, 3, activation='relu'),\n",
    "    layers.Conv2D(64, 3, activation='relu'),\n",
    "    layers.MaxPooling2D(),\n",
    "    layers.Dropout(0.25),\n",
    "    layers.Flatten(),\n",
    "    layers.Dense(128, activation='relu'),\n",
    "    layers.Dropout(0.5),\n",
    "    layers.Dense(8),\n",
    "])\n",
    "\n",
    "model.summary()"
   ]
  },
  {
   "cell_type": "code",
   "execution_count": 28,
   "id": "2c475c47-a271-47ae-b61c-28306330f422",
   "metadata": {},
   "outputs": [],
   "source": [
    "model.compile(\n",
    "    optimizer=tf.keras.optimizers.Adam(),\n",
    "    loss=tf.keras.losses.SparseCategoricalCrossentropy(from_logits=True),\n",
    "    metrics=['accuracy'],\n",
    ")"
   ]
  },
  {
   "cell_type": "code",
   "execution_count": null,
   "id": "849dff1b-2a28-4f7d-9e12-8c695f5e44e8",
   "metadata": {},
   "outputs": [
    {
     "name": "stderr",
     "output_type": "stream",
     "text": [
      "2022-12-05 08:09:34.832781: E tensorflow/core/grappler/optimizers/meta_optimizer.cc:954] layout failed: INVALID_ARGUMENT: Size of values 0 does not match size of permutation 4 @ fanin shape insequential_1/dropout_2/dropout/SelectV2-2-TransposeNHWCToNCHW-LayoutOptimizer\n"
     ]
    },
    {
     "name": "stdout",
     "output_type": "stream",
     "text": [
      "50/50 [==============================] - 2s 14ms/step - loss: 2.2526 - accuracy: 0.2147\n",
      "50/50 [==============================] - 0s 4ms/step - loss: 1.9031 - accuracy: 0.3275\n",
      "50/50 [==============================] - 1s 14ms/step - loss: 1.8873 - accuracy: 0.3000\n",
      "50/50 [==============================] - 0s 3ms/step - loss: 1.8211 - accuracy: 0.3919\n",
      "50/50 [==============================] - 1s 14ms/step - loss: 1.7714 - accuracy: 0.3616\n",
      "50/50 [==============================] - 0s 4ms/step - loss: 1.7183 - accuracy: 0.4437\n",
      "50/50 [==============================] - 1s 14ms/step - loss: 1.6638 - accuracy: 0.3994\n",
      "50/50 [==============================] - 0s 4ms/step - loss: 1.6219 - accuracy: 0.4631\n",
      "50/50 [==============================] - 1s 14ms/step - loss: 1.5212 - accuracy: 0.4547\n",
      "50/50 [==============================] - 0s 4ms/step - loss: 1.4500 - accuracy: 0.5275\n",
      "50/50 [==============================] - 1s 14ms/step - loss: 1.4042 - accuracy: 0.4948\n",
      "50/50 [==============================] - 0s 4ms/step - loss: 1.3817 - accuracy: 0.5494\n",
      "50/50 [==============================] - 1s 14ms/step - loss: 1.3136 - accuracy: 0.5267\n",
      "50/50 [==============================] - 0s 3ms/step - loss: 1.3245 - accuracy: 0.5869\n",
      "50/50 [==============================] - 1s 14ms/step - loss: 1.2136 - accuracy: 0.5595\n",
      "50/50 [==============================] - 0s 4ms/step - loss: 1.3033 - accuracy: 0.5781\n",
      "50/50 [==============================] - 1s 14ms/step - loss: 1.1445 - accuracy: 0.5822\n",
      "50/50 [==============================] - 0s 3ms/step - loss: 1.2980 - accuracy: 0.5950\n",
      "50/50 [==============================] - 1s 14ms/step - loss: 1.0661 - accuracy: 0.6108\n",
      "50/50 [==============================] - 0s 4ms/step - loss: 1.2643 - accuracy: 0.6075\n",
      "50/50 [==============================] - 1s 14ms/step - loss: 1.0158 - accuracy: 0.6408\n",
      "50/50 [==============================] - 0s 4ms/step - loss: 1.2755 - accuracy: 0.6156\n",
      "50/50 [==============================] - 1s 14ms/step - loss: 0.9611 - accuracy: 0.6578\n",
      "50/50 [==============================] - 0s 4ms/step - loss: 1.2490 - accuracy: 0.6100\n",
      "50/50 [==============================] - 1s 14ms/step - loss: 0.9173 - accuracy: 0.6734\n",
      "50/50 [==============================] - 0s 4ms/step - loss: 1.2610 - accuracy: 0.6350\n",
      "50/50 [==============================] - 1s 14ms/step - loss: 0.8808 - accuracy: 0.6825\n",
      "50/50 [==============================] - 0s 4ms/step - loss: 1.2976 - accuracy: 0.6162\n",
      "50/50 [==============================] - 1s 14ms/step - loss: 0.8353 - accuracy: 0.7006\n",
      "50/50 [==============================] - 0s 3ms/step - loss: 1.3434 - accuracy: 0.6313\n",
      "50/50 [==============================] - 1s 14ms/step - loss: 0.7735 - accuracy: 0.7198\n",
      "50/50 [==============================] - 0s 3ms/step - loss: 1.3205 - accuracy: 0.6231\n",
      "50/50 [==============================] - 1s 14ms/step - loss: 0.7803 - accuracy: 0.7231\n",
      "50/50 [==============================] - 0s 4ms/step - loss: 1.3566 - accuracy: 0.6175\n",
      "50/50 [==============================] - 1s 14ms/step - loss: 0.7545 - accuracy: 0.7373\n",
      "50/50 [==============================] - 0s 4ms/step - loss: 1.3571 - accuracy: 0.6369\n",
      "50/50 [==============================] - 1s 14ms/step - loss: 0.6998 - accuracy: 0.7506\n",
      "50/50 [==============================] - 0s 4ms/step - loss: 1.3914 - accuracy: 0.6400\n",
      "50/50 [==============================] - 1s 14ms/step - loss: 0.6898 - accuracy: 0.7605\n",
      "50/50 [==============================] - 0s 4ms/step - loss: 1.4826 - accuracy: 0.6319\n"
     ]
    },
    {
     "data": {
      "text/plain": [
       "[<matplotlib.lines.Line2D at 0x7fcc348484c0>]"
      ]
     },
     "execution_count": 29,
     "metadata": {},
     "output_type": "execute_result"
    },
    {
     "data": {
      "image/png": "[encoded data removed]",
      "text/plain": [
       "<Figure size 640x480 with 1 Axes>"
      ]
     },
     "metadata": {},
     "output_type": "display_data"
    }
   ],
   "source": [
    "train_acc = [];\n",
    "test_acc = [];\n",
    "for i_iter in range(20):\n",
    "    train_history = model.fit(x=X, y=y, epochs=1, batch_size=128);\n",
    "    _, test_acc_i = model.evaluate(x=Xv, y=yv)\n",
    "    train_acc.append(train_history.history['accuracy'][0])\n",
    "    test_acc.append(test_acc_i)\n",
    "train_acc = np.vstack(train_acc)\n",
    "test_acc = np.vstack(test_acc)\n",
    "plt.plot(train_acc)\n",
    "plt.plot(test_acc)"
   ]
  }
 ],
 "metadata": {
  "kernelspec": {
   "display_name": "Python 3 (ipykernel)",
   "language": "python",
   "name": "python3"
  },
  "language_info": {
   "codemirror_mode": {
    "name": "ipython",
    "version": 3
   },
   "file_extension": ".py",
   "mimetype": "text/x-python",
   "name": "python",
   "nbconvert_exporter": "python",
   "pygments_lexer": "ipython3",
   "version": "3.10.6"
  }
 },
 "nbformat": 4,
 "nbformat_minor": 5
}

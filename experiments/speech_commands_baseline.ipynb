{
 "cells": [
  {
   "cell_type": "code",
   "execution_count": 1,
   "id": "318f0f9f-3f2a-49ef-be37-2cf2157169af",
   "metadata": {},
   "outputs": [],
   "source": [
    "import matplotlib.pyplot as plt\n",
    "import time"
   ]
  },
  {
   "cell_type": "code",
   "execution_count": 2,
   "id": "e552620d-51b5-4e85-98df-ec90cf696c1a",
   "metadata": {},
   "outputs": [
    {
     "name": "stderr",
     "output_type": "stream",
     "text": [
      "2022-12-05 11:27:17.100242: I tensorflow/core/platform/cpu_feature_guard.cc:193] This TensorFlow binary is optimized with oneAPI Deep Neural Network Library (oneDNN) to use the following CPU instructions in performance-critical operations:  AVX2 FMA\n",
      "To enable them in other operations, rebuild TensorFlow with the appropriate compiler flags.\n",
      "2022-12-05 11:27:17.825771: W tensorflow/compiler/xla/stream_executor/platform/default/dso_loader.cc:64] Could not load dynamic library 'libnvinfer.so.7'; dlerror: libnvinfer.so.7: cannot open shared object file: No such file or directory\n",
      "2022-12-05 11:27:17.825822: W tensorflow/compiler/xla/stream_executor/platform/default/dso_loader.cc:64] Could not load dynamic library 'libnvinfer_plugin.so.7'; dlerror: libnvinfer_plugin.so.7: cannot open shared object file: No such file or directory\n",
      "2022-12-05 11:27:17.825829: W tensorflow/compiler/tf2tensorrt/utils/py_utils.cc:38] TF-TRT Warning: Cannot dlopen some TensorRT libraries. If you would like to use Nvidia GPU with TensorRT, please make sure the missing libraries mentioned above are installed properly.\n"
     ]
    }
   ],
   "source": [
    "from common_functions import *"
   ]
  },
  {
   "cell_type": "code",
   "execution_count": 3,
   "id": "26f3bcf8-0eed-42a3-97a3-4d1bdb3a834d",
   "metadata": {},
   "outputs": [
    {
     "name": "stdout",
     "output_type": "stream",
     "text": [
      "Found 8000 files belonging to 8 classes.\n",
      "Using 6400 files for training.\n",
      "Using 1600 files for validation.\n"
     ]
    },
    {
     "name": "stderr",
     "output_type": "stream",
     "text": [
      "2022-12-05 11:27:19.148890: I tensorflow/compiler/xla/stream_executor/cuda/cuda_gpu_executor.cc:981] successful NUMA node read from SysFS had negative value (-1), but there must be at least one NUMA node, so returning NUMA node zero\n",
      "2022-12-05 11:27:19.172451: I tensorflow/compiler/xla/stream_executor/cuda/cuda_gpu_executor.cc:981] successful NUMA node read from SysFS had negative value (-1), but there must be at least one NUMA node, so returning NUMA node zero\n",
      "2022-12-05 11:27:19.172683: I tensorflow/compiler/xla/stream_executor/cuda/cuda_gpu_executor.cc:981] successful NUMA node read from SysFS had negative value (-1), but there must be at least one NUMA node, so returning NUMA node zero\n",
      "2022-12-05 11:27:19.173199: I tensorflow/core/platform/cpu_feature_guard.cc:193] This TensorFlow binary is optimized with oneAPI Deep Neural Network Library (oneDNN) to use the following CPU instructions in performance-critical operations:  AVX2 FMA\n",
      "To enable them in other operations, rebuild TensorFlow with the appropriate compiler flags.\n",
      "2022-12-05 11:27:19.173638: I tensorflow/compiler/xla/stream_executor/cuda/cuda_gpu_executor.cc:981] successful NUMA node read from SysFS had negative value (-1), but there must be at least one NUMA node, so returning NUMA node zero\n",
      "2022-12-05 11:27:19.173831: I tensorflow/compiler/xla/stream_executor/cuda/cuda_gpu_executor.cc:981] successful NUMA node read from SysFS had negative value (-1), but there must be at least one NUMA node, so returning NUMA node zero\n",
      "2022-12-05 11:27:19.174007: I tensorflow/compiler/xla/stream_executor/cuda/cuda_gpu_executor.cc:981] successful NUMA node read from SysFS had negative value (-1), but there must be at least one NUMA node, so returning NUMA node zero\n",
      "2022-12-05 11:27:19.641133: I tensorflow/compiler/xla/stream_executor/cuda/cuda_gpu_executor.cc:981] successful NUMA node read from SysFS had negative value (-1), but there must be at least one NUMA node, so returning NUMA node zero\n",
      "2022-12-05 11:27:19.641358: I tensorflow/compiler/xla/stream_executor/cuda/cuda_gpu_executor.cc:981] successful NUMA node read from SysFS had negative value (-1), but there must be at least one NUMA node, so returning NUMA node zero\n",
      "2022-12-05 11:27:19.641535: I tensorflow/compiler/xla/stream_executor/cuda/cuda_gpu_executor.cc:981] successful NUMA node read from SysFS had negative value (-1), but there must be at least one NUMA node, so returning NUMA node zero\n",
      "2022-12-05 11:27:19.641684: I tensorflow/core/common_runtime/gpu/gpu_device.cc:1613] Created device /job:localhost/replica:0/task:0/device:GPU:0 with 10646 MB memory:  -> device: 0, name: NVIDIA GeForce RTX 2060, pci bus id: 0000:09:00.0, compute capability: 7.5\n"
     ]
    }
   ],
   "source": [
    "X, y, Xv, yv = load_mini_speech_commands()\n",
    "def slog(x):\n",
    "    return np.log(1+np.abs(x))*np.sign(x)\n",
    "def ulog(x):\n",
    "    return np.log(1+np.abs(x))\n",
    "X = slog(X)\n",
    "Xv = slog(Xv)"
   ]
  },
  {
   "cell_type": "code",
   "execution_count": 4,
   "id": "f16d19c8-bdc8-41bf-a00f-daaff7c2b414",
   "metadata": {},
   "outputs": [
    {
     "name": "stdout",
     "output_type": "stream",
     "text": [
      "Model: \"sequential\"\n",
      "_________________________________________________________________\n",
      " Layer (type)                Output Shape              Param #   \n",
      "=================================================================\n",
      " batch_normalization (BatchN  (None, 128, 128, 1)      4         \n",
      " ormalization)                                                   \n",
      "                                                                 \n",
      " conv2d (Conv2D)             (None, 126, 126, 32)      320       \n",
      "                                                                 \n",
      " max_pooling2d (MaxPooling2D  (None, 63, 63, 32)       0         \n",
      " )                                                               \n",
      "                                                                 \n",
      " conv2d_1 (Conv2D)           (None, 61, 61, 64)        18496     \n",
      "                                                                 \n",
      " max_pooling2d_1 (MaxPooling  (None, 30, 30, 64)       0         \n",
      " 2D)                                                             \n",
      "                                                                 \n",
      " flatten (Flatten)           (None, 57600)             0         \n",
      "                                                                 \n",
      " dense (Dense)               (None, 128)               7372928   \n",
      "                                                                 \n",
      " dense_1 (Dense)             (None, 8)                 1032      \n",
      "                                                                 \n",
      "=================================================================\n",
      "Total params: 7,392,780\n",
      "Trainable params: 7,392,778\n",
      "Non-trainable params: 2\n",
      "_________________________________________________________________\n"
     ]
    }
   ],
   "source": [
    "model = models.Sequential([\n",
    "    layers.Input(shape=(128,128,1)),\n",
    "    layers.BatchNormalization(),\n",
    "    layers.Conv2D(32, 3, activation='relu'),\n",
    "    layers.MaxPooling2D(pool_size=(2,2)),\n",
    "    layers.Conv2D(64, 3, activation='relu'),\n",
    "    layers.MaxPooling2D(pool_size=(2,2)),\n",
    "    layers.Flatten(),\n",
    "    layers.Dense(128, activation='relu'),\n",
    "    layers.Dense(8),\n",
    "])\n",
    "\n",
    "model.summary()"
   ]
  },
  {
   "cell_type": "code",
   "execution_count": 5,
   "id": "2c475c47-a271-47ae-b61c-28306330f422",
   "metadata": {},
   "outputs": [],
   "source": [
    "model.compile(\n",
    "    optimizer=tf.keras.optimizers.Adam(),\n",
    "    loss=tf.keras.losses.SparseCategoricalCrossentropy(from_logits=True),\n",
    "    metrics=['accuracy'],\n",
    ")"
   ]
  },
  {
   "cell_type": "code",
   "execution_count": 6,
   "id": "75f02840-d4fd-464a-969d-7eb8986fe1b6",
   "metadata": {},
   "outputs": [],
   "source": [
    "train_acc = [];\n",
    "test_acc = [];\n",
    "elapsed_time = [];"
   ]
  },
  {
   "cell_type": "code",
   "execution_count": 7,
   "id": "849dff1b-2a28-4f7d-9e12-8c695f5e44e8",
   "metadata": {},
   "outputs": [
    {
     "name": "stderr",
     "output_type": "stream",
     "text": [
      "2022-12-05 11:27:30.637679: I tensorflow/compiler/xla/stream_executor/cuda/cuda_dnn.cc:428] Loaded cuDNN version 8700\n",
      "2022-12-05 11:27:31.163713: I tensorflow/tsl/platform/default/subprocess.cc:304] Start cannot spawn child process: No such file or directory\n",
      "2022-12-05 11:27:31.322759: I tensorflow/compiler/xla/service/service.cc:173] XLA service 0x7f24be056da0 initialized for platform CUDA (this does not guarantee that XLA will be used). Devices:\n",
      "2022-12-05 11:27:31.322785: I tensorflow/compiler/xla/service/service.cc:181]   StreamExecutor device (0): NVIDIA GeForce RTX 2060, Compute Capability 7.5\n",
      "2022-12-05 11:27:31.327757: I tensorflow/compiler/mlir/tensorflow/utils/dump_mlir_util.cc:268] disabling MLIR crash reproducer, set env var `MLIR_CRASH_REPRODUCER_DIRECTORY` to enable.\n",
      "2022-12-05 11:27:31.407555: I tensorflow/tsl/platform/default/subprocess.cc:304] Start cannot spawn child process: No such file or directory\n",
      "2022-12-05 11:27:31.454256: I tensorflow/compiler/jit/xla_compilation_cache.cc:477] Compiled cluster using XLA!  This line is logged at most once for the lifetime of the process.\n"
     ]
    },
    {
     "name": "stdout",
     "output_type": "stream",
     "text": [
      "100/100 [==============================] - 5s 20ms/step - loss: 1.6183 - accuracy: 0.4527\n",
      "50/50 [==============================] - 0s 5ms/step - loss: 1.3204 - accuracy: 0.6413\n",
      "100/100 [==============================] - 2s 20ms/step - loss: 0.7920 - accuracy: 0.7514\n",
      "50/50 [==============================] - 0s 4ms/step - loss: 0.8299 - accuracy: 0.7763\n",
      "100/100 [==============================] - 2s 20ms/step - loss: 0.4408 - accuracy: 0.8659\n",
      "50/50 [==============================] - 0s 5ms/step - loss: 0.6028 - accuracy: 0.8019\n",
      "100/100 [==============================] - 2s 20ms/step - loss: 0.2718 - accuracy: 0.9142\n",
      "50/50 [==============================] - 0s 4ms/step - loss: 0.5856 - accuracy: 0.8225\n",
      "100/100 [==============================] - 2s 20ms/step - loss: 0.1598 - accuracy: 0.9519\n",
      "50/50 [==============================] - 0s 4ms/step - loss: 0.6909 - accuracy: 0.8206\n",
      "100/100 [==============================] - 2s 19ms/step - loss: 0.1200 - accuracy: 0.9650\n",
      "50/50 [==============================] - 0s 4ms/step - loss: 0.8560 - accuracy: 0.8112\n",
      "100/100 [==============================] - 2s 20ms/step - loss: 0.0984 - accuracy: 0.9709\n",
      "50/50 [==============================] - 0s 4ms/step - loss: 0.9541 - accuracy: 0.8163\n",
      "100/100 [==============================] - 2s 20ms/step - loss: 0.0874 - accuracy: 0.9755\n",
      "50/50 [==============================] - 0s 4ms/step - loss: 0.9754 - accuracy: 0.8256\n",
      "100/100 [==============================] - 2s 20ms/step - loss: 0.0879 - accuracy: 0.9741\n",
      "50/50 [==============================] - 0s 4ms/step - loss: 0.8605 - accuracy: 0.8269\n",
      "100/100 [==============================] - 2s 20ms/step - loss: 0.0583 - accuracy: 0.9836\n",
      "50/50 [==============================] - 0s 4ms/step - loss: 0.8561 - accuracy: 0.8306\n",
      "100/100 [==============================] - 2s 20ms/step - loss: 0.0726 - accuracy: 0.9802\n",
      "50/50 [==============================] - 0s 5ms/step - loss: 1.1720 - accuracy: 0.7875\n",
      "100/100 [==============================] - 2s 20ms/step - loss: 0.0630 - accuracy: 0.9819\n",
      "50/50 [==============================] - 0s 4ms/step - loss: 1.1148 - accuracy: 0.8188\n",
      "100/100 [==============================] - 2s 20ms/step - loss: 0.0323 - accuracy: 0.9906\n",
      "50/50 [==============================] - 0s 4ms/step - loss: 0.9013 - accuracy: 0.8431\n",
      "100/100 [==============================] - 2s 20ms/step - loss: 0.0201 - accuracy: 0.9952\n",
      "50/50 [==============================] - 0s 4ms/step - loss: 0.9959 - accuracy: 0.8400\n",
      "100/100 [==============================] - 2s 20ms/step - loss: 0.0158 - accuracy: 0.9964\n",
      "50/50 [==============================] - 0s 4ms/step - loss: 1.0732 - accuracy: 0.8444\n"
     ]
    },
    {
     "data": {
      "text/plain": [
       "[<matplotlib.lines.Line2D at 0x7f29d900faf0>]"
      ]
     },
     "execution_count": 7,
     "metadata": {},
     "output_type": "execute_result"
    },
    {
     "data": {
      "image/png": "[encoded data removed]",
      "text/plain": [
       "<Figure size 640x480 with 1 Axes>"
      ]
     },
     "metadata": {},
     "output_type": "display_data"
    }
   ],
   "source": [
    "for i_iter in range(15):\n",
    "    t = time.process_time()\n",
    "    train_history = model.fit(x=X, y=y, epochs=1, batch_size=64);\n",
    "    elapsed_time.append(time.process_time()-t)\n",
    "    _, test_acc_i = model.evaluate(x=Xv, y=yv)\n",
    "    train_acc.append(train_history.history['accuracy'][0])\n",
    "    test_acc.append(test_acc_i)\n",
    "plt.plot(np.vstack(train_acc))\n",
    "plt.plot(np.vstack(test_acc))"
   ]
  },
  {
   "cell_type": "code",
   "execution_count": 8,
   "id": "839a172f-c778-409e-a86c-56a915691a19",
   "metadata": {},
   "outputs": [
    {
     "name": "stdout",
     "output_type": "stream",
     "text": [
      "2.851719455999998 seconds/iteration\n",
      "0.8399999737739563 test accuracy\n"
     ]
    }
   ],
   "source": [
    "print(np.median(elapsed_time), \"seconds/iteration\")\n",
    "print(np.median(test_acc[-5:]), \"test accuracy\")"
   ]
  }
 ],
 "metadata": {
  "kernelspec": {
   "display_name": "Python 3 (ipykernel)",
   "language": "python",
   "name": "python3"
  },
  "language_info": {
   "codemirror_mode": {
    "name": "ipython",
    "version": 3
   },
   "file_extension": ".py",
   "mimetype": "text/x-python",
   "name": "python",
   "nbconvert_exporter": "python",
   "pygments_lexer": "ipython3",
   "version": "3.10.6"
  }
 },
 "nbformat": 4,
 "nbformat_minor": 5
}

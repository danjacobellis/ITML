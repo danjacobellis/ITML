{
 "cells": [
  {
   "cell_type": "code",
   "execution_count": 1,
   "id": "318f0f9f-3f2a-49ef-be37-2cf2157169af",
   "metadata": {},
   "outputs": [],
   "source": [
    "import matplotlib.pyplot as plt"
   ]
  },
  {
   "cell_type": "code",
   "execution_count": 3,
   "id": "e552620d-51b5-4e85-98df-ec90cf696c1a",
   "metadata": {},
   "outputs": [],
   "source": [
    "from common_functions import *"
   ]
  },
  {
   "cell_type": "code",
   "execution_count": 5,
   "id": "26f3bcf8-0eed-42a3-97a3-4d1bdb3a834d",
   "metadata": {},
   "outputs": [
    {
     "name": "stdout",
     "output_type": "stream",
     "text": [
      "Found 8000 files belonging to 8 classes.\n",
      "Using 6400 files for training.\n",
      "Using 1600 files for validation.\n"
     ]
    }
   ],
   "source": [
    "X, y, Xv, yv = load_mini_speech_commands()\n",
    "def slog(x):\n",
    "    return np.log(1+np.abs(x))*np.sign(x)\n",
    "def ulog(x):\n",
    "    return np.log(1+np.abs(x))\n",
    "# X = ulog(X)\n",
    "# Xv = ulog(Xv)"
   ]
  },
  {
   "cell_type": "code",
   "execution_count": 33,
   "id": "f16d19c8-bdc8-41bf-a00f-daaff7c2b414",
   "metadata": {},
   "outputs": [
    {
     "name": "stdout",
     "output_type": "stream",
     "text": [
      "Model: \"sequential_3\"\n",
      "_________________________________________________________________\n",
      " Layer (type)                Output Shape              Param #   \n",
      "=================================================================\n",
      " resizing_3 (Resizing)       (None, 32, 32, 1)         0         \n",
      "                                                                 \n",
      " conv2d_6 (Conv2D)           (None, 30, 30, 32)        320       \n",
      "                                                                 \n",
      " conv2d_7 (Conv2D)           (None, 28, 28, 64)        18496     \n",
      "                                                                 \n",
      " max_pooling2d_3 (MaxPooling  (None, 14, 14, 64)       0         \n",
      " 2D)                                                             \n",
      "                                                                 \n",
      " flatten_3 (Flatten)         (None, 12544)             0         \n",
      "                                                                 \n",
      " dense_6 (Dense)             (None, 128)               1605760   \n",
      "                                                                 \n",
      " dense_7 (Dense)             (None, 8)                 1032      \n",
      "                                                                 \n",
      "=================================================================\n",
      "Total params: 1,625,608\n",
      "Trainable params: 1,625,608\n",
      "Non-trainable params: 0\n",
      "_________________________________________________________________\n"
     ]
    }
   ],
   "source": [
    "model = models.Sequential([\n",
    "    layers.Input(shape=(128,128,1)),\n",
    "    layers.Resizing(32, 32),\n",
    "    layers.Conv2D(32, 3, activation='relu'),\n",
    "    layers.Conv2D(64, 3, activation='relu'),\n",
    "    layers.MaxPooling2D(),\n",
    "    layers.Flatten(),\n",
    "    layers.Dense(128, activation='relu'),\n",
    "    layers.Dense(8),\n",
    "])\n",
    "\n",
    "model.summary()"
   ]
  },
  {
   "cell_type": "code",
   "execution_count": 34,
   "id": "2c475c47-a271-47ae-b61c-28306330f422",
   "metadata": {},
   "outputs": [],
   "source": [
    "model.compile(\n",
    "    optimizer=tf.keras.optimizers.Adam(),\n",
    "    loss=tf.keras.losses.SparseCategoricalCrossentropy(from_logits=True),\n",
    "    metrics=['accuracy'],\n",
    ")"
   ]
  },
  {
   "cell_type": "code",
   "execution_count": 35,
   "id": "849dff1b-2a28-4f7d-9e12-8c695f5e44e8",
   "metadata": {},
   "outputs": [
    {
     "name": "stdout",
     "output_type": "stream",
     "text": [
      "50/50 [==============================] - 2s 9ms/step - loss: 1.7929 - accuracy: 0.3592\n",
      "50/50 [==============================] - 0s 4ms/step - loss: 1.6123 - accuracy: 0.4625\n",
      "50/50 [==============================] - 0s 9ms/step - loss: 1.3919 - accuracy: 0.5238\n",
      "50/50 [==============================] - 0s 4ms/step - loss: 1.4106 - accuracy: 0.5238\n",
      "50/50 [==============================] - 0s 9ms/step - loss: 1.1169 - accuracy: 0.6112\n",
      "50/50 [==============================] - 0s 4ms/step - loss: 1.3416 - accuracy: 0.5638\n",
      "50/50 [==============================] - 0s 9ms/step - loss: 0.8912 - accuracy: 0.6920\n",
      "50/50 [==============================] - 0s 4ms/step - loss: 1.2792 - accuracy: 0.6062\n",
      "50/50 [==============================] - 0s 9ms/step - loss: 0.7113 - accuracy: 0.7606\n",
      "50/50 [==============================] - 0s 4ms/step - loss: 1.2811 - accuracy: 0.6356\n",
      "50/50 [==============================] - 0s 9ms/step - loss: 0.5722 - accuracy: 0.8070\n",
      "50/50 [==============================] - 0s 3ms/step - loss: 1.3446 - accuracy: 0.6294\n",
      "50/50 [==============================] - 0s 9ms/step - loss: 0.4987 - accuracy: 0.8319\n",
      "50/50 [==============================] - 0s 4ms/step - loss: 1.4279 - accuracy: 0.6363\n",
      "50/50 [==============================] - 0s 9ms/step - loss: 0.3993 - accuracy: 0.8672\n",
      "50/50 [==============================] - 0s 3ms/step - loss: 1.5718 - accuracy: 0.6294\n",
      "50/50 [==============================] - 0s 9ms/step - loss: 0.3445 - accuracy: 0.8902\n",
      "50/50 [==============================] - 0s 4ms/step - loss: 1.7186 - accuracy: 0.6331\n",
      "50/50 [==============================] - 0s 9ms/step - loss: 0.2841 - accuracy: 0.9116\n",
      "50/50 [==============================] - 0s 4ms/step - loss: 1.7454 - accuracy: 0.6500\n",
      "50/50 [==============================] - 0s 9ms/step - loss: 0.2497 - accuracy: 0.9248\n",
      "50/50 [==============================] - 0s 4ms/step - loss: 1.7988 - accuracy: 0.6650\n",
      "50/50 [==============================] - 0s 9ms/step - loss: 0.2173 - accuracy: 0.9337\n",
      "50/50 [==============================] - 0s 4ms/step - loss: 2.0054 - accuracy: 0.6394\n",
      "50/50 [==============================] - 0s 9ms/step - loss: 0.2165 - accuracy: 0.9352\n",
      "50/50 [==============================] - 0s 3ms/step - loss: 2.2542 - accuracy: 0.6256\n",
      "50/50 [==============================] - 0s 9ms/step - loss: 0.2583 - accuracy: 0.9209\n",
      "50/50 [==============================] - 0s 3ms/step - loss: 2.0879 - accuracy: 0.6206\n",
      "50/50 [==============================] - 0s 9ms/step - loss: 0.1896 - accuracy: 0.9466\n",
      "50/50 [==============================] - 0s 4ms/step - loss: 2.2367 - accuracy: 0.6419\n",
      "50/50 [==============================] - 0s 9ms/step - loss: 0.1827 - accuracy: 0.9467\n",
      "50/50 [==============================] - 0s 4ms/step - loss: 2.2334 - accuracy: 0.6438\n",
      "50/50 [==============================] - 0s 9ms/step - loss: 0.1609 - accuracy: 0.9548\n",
      "50/50 [==============================] - 0s 4ms/step - loss: 2.3186 - accuracy: 0.6456\n",
      "50/50 [==============================] - 0s 9ms/step - loss: 0.1432 - accuracy: 0.9591\n",
      "50/50 [==============================] - 0s 3ms/step - loss: 2.6959 - accuracy: 0.6425\n",
      "50/50 [==============================] - 0s 9ms/step - loss: 0.1506 - accuracy: 0.9580\n",
      "50/50 [==============================] - 0s 4ms/step - loss: 2.5083 - accuracy: 0.6431\n",
      "50/50 [==============================] - 0s 9ms/step - loss: 0.1094 - accuracy: 0.9689\n",
      "50/50 [==============================] - 0s 4ms/step - loss: 2.5009 - accuracy: 0.6438\n"
     ]
    },
    {
     "data": {
      "text/plain": [
       "[<matplotlib.lines.Line2D at 0x7fcc3460fa60>]"
      ]
     },
     "execution_count": 35,
     "metadata": {},
     "output_type": "execute_result"
    },
    {
     "data": {
      "image/png": "[encoded data removed]",
      "text/plain": [
       "<Figure size 640x480 with 1 Axes>"
      ]
     },
     "metadata": {},
     "output_type": "display_data"
    }
   ],
   "source": [
    "train_acc = [];\n",
    "test_acc = [];\n",
    "for i_iter in range(20):\n",
    "    train_history = model.fit(x=X, y=y, epochs=1, batch_size=128);\n",
    "    _, test_acc_i = model.evaluate(x=Xv, y=yv)\n",
    "    train_acc.append(train_history.history['accuracy'][0])\n",
    "    test_acc.append(test_acc_i)\n",
    "train_acc = np.vstack(train_acc)\n",
    "test_acc = np.vstack(test_acc)\n",
    "plt.plot(train_acc)\n",
    "plt.plot(test_acc)"
   ]
  },
  {
   "cell_type": "code",
   "execution_count": null,
   "id": "3e957cb8-fab2-4d12-8353-5d36bdcd7b9e",
   "metadata": {},
   "outputs": [],
   "source": []
  }
 ],
 "metadata": {
  "kernelspec": {
   "display_name": "Python 3 (ipykernel)",
   "language": "python",
   "name": "python3"
  },
  "language_info": {
   "codemirror_mode": {
    "name": "ipython",
    "version": 3
   },
   "file_extension": ".py",
   "mimetype": "text/x-python",
   "name": "python",
   "nbconvert_exporter": "python",
   "pygments_lexer": "ipython3",
   "version": "3.10.6"
  }
 },
 "nbformat": 4,
 "nbformat_minor": 5
}

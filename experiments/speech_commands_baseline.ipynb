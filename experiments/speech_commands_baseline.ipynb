{
 "cells": [
  {
   "cell_type": "code",
   "execution_count": 1,
   "id": "318f0f9f-3f2a-49ef-be37-2cf2157169af",
   "metadata": {},
   "outputs": [],
   "source": [
    "import matplotlib.pyplot as plt"
   ]
  },
  {
   "cell_type": "code",
   "execution_count": 4,
   "id": "e552620d-51b5-4e85-98df-ec90cf696c1a",
   "metadata": {},
   "outputs": [],
   "source": [
    "from common_functions import *"
   ]
  },
  {
   "cell_type": "code",
   "execution_count": 5,
   "id": "26f3bcf8-0eed-42a3-97a3-4d1bdb3a834d",
   "metadata": {},
   "outputs": [
    {
     "name": "stdout",
     "output_type": "stream",
     "text": [
      "Found 8000 files belonging to 8 classes.\n",
      "Using 6400 files for training.\n",
      "Using 1600 files for validation.\n"
     ]
    }
   ],
   "source": [
    "X, y, Xv, yv = load_mini_speech_commands()\n",
    "def slog(x):\n",
    "    return np.log(1+np.abs(x))*np.sign(x)\n",
    "def ulog(x):\n",
    "    return np.log(1+np.abs(x))\n",
    "# X = ulog(X)\n",
    "# Xv = ulog(Xv)"
   ]
  },
  {
   "cell_type": "code",
   "execution_count": 6,
   "id": "f16d19c8-bdc8-41bf-a00f-daaff7c2b414",
   "metadata": {},
   "outputs": [
    {
     "name": "stdout",
     "output_type": "stream",
     "text": [
      "Model: \"sequential\"\n",
      "_________________________________________________________________\n",
      " Layer (type)                Output Shape              Param #   \n",
      "=================================================================\n",
      " conv2d (Conv2D)             (None, 126, 126, 32)      320       \n",
      "                                                                 \n",
      " conv2d_1 (Conv2D)           (None, 124, 124, 64)      18496     \n",
      "                                                                 \n",
      " max_pooling2d (MaxPooling2D  (None, 62, 62, 64)       0         \n",
      " )                                                               \n",
      "                                                                 \n",
      " flatten (Flatten)           (None, 246016)            0         \n",
      "                                                                 \n",
      " dense (Dense)               (None, 128)               31490176  \n",
      "                                                                 \n",
      " dense_1 (Dense)             (None, 8)                 1032      \n",
      "                                                                 \n",
      "=================================================================\n",
      "Total params: 31,510,024\n",
      "Trainable params: 31,510,024\n",
      "Non-trainable params: 0\n",
      "_________________________________________________________________\n"
     ]
    }
   ],
   "source": [
    "model = models.Sequential([\n",
    "    layers.Input(shape=(128,128,1)),\n",
    "    layers.Conv2D(32, 3, activation='relu'),\n",
    "    layers.Conv2D(64, 3, activation='relu'),\n",
    "    layers.MaxPooling2D(),\n",
    "    layers.Flatten(),\n",
    "    layers.Dense(128, activation='relu'),\n",
    "    layers.Dense(8),\n",
    "])\n",
    "\n",
    "model.summary()"
   ]
  },
  {
   "cell_type": "code",
   "execution_count": 7,
   "id": "2c475c47-a271-47ae-b61c-28306330f422",
   "metadata": {},
   "outputs": [],
   "source": [
    "model.compile(\n",
    "    optimizer=tf.keras.optimizers.Adam(),\n",
    "    loss=tf.keras.losses.SparseCategoricalCrossentropy(from_logits=True),\n",
    "    metrics=['accuracy'],\n",
    ")"
   ]
  },
  {
   "cell_type": "code",
   "execution_count": 8,
   "id": "849dff1b-2a28-4f7d-9e12-8c695f5e44e8",
   "metadata": {},
   "outputs": [
    {
     "name": "stderr",
     "output_type": "stream",
     "text": [
      "2022-12-05 08:25:23.091284: I tensorflow/compiler/xla/stream_executor/cuda/cuda_dnn.cc:428] Loaded cuDNN version 8700\n",
      "2022-12-05 08:25:23.564424: I tensorflow/tsl/platform/default/subprocess.cc:304] Start cannot spawn child process: No such file or directory\n",
      "2022-12-05 08:25:24.049057: I tensorflow/compiler/xla/service/service.cc:173] XLA service 0x7f6fa1969380 initialized for platform CUDA (this does not guarantee that XLA will be used). Devices:\n",
      "2022-12-05 08:25:24.049079: I tensorflow/compiler/xla/service/service.cc:181]   StreamExecutor device (0): NVIDIA GeForce RTX 2060, Compute Capability 7.5\n",
      "2022-12-05 08:25:24.054031: I tensorflow/compiler/mlir/tensorflow/utils/dump_mlir_util.cc:268] disabling MLIR crash reproducer, set env var `MLIR_CRASH_REPRODUCER_DIRECTORY` to enable.\n",
      "2022-12-05 08:25:24.129717: I tensorflow/tsl/platform/default/subprocess.cc:304] Start cannot spawn child process: No such file or directory\n",
      "2022-12-05 08:25:24.175906: I tensorflow/compiler/jit/xla_compilation_cache.cc:477] Compiled cluster using XLA!  This line is logged at most once for the lifetime of the process.\n"
     ]
    },
    {
     "name": "stdout",
     "output_type": "stream",
     "text": [
      "50/50 [==============================] - 8s 72ms/step - loss: 2.4186 - accuracy: 0.3006\n",
      "50/50 [==============================] - 1s 6ms/step - loss: 1.8183 - accuracy: 0.3663\n",
      "50/50 [==============================] - 4s 72ms/step - loss: 1.5232 - accuracy: 0.4973\n",
      "50/50 [==============================] - 0s 6ms/step - loss: 1.3615 - accuracy: 0.5750\n",
      "50/50 [==============================] - 4s 72ms/step - loss: 1.0042 - accuracy: 0.6927\n",
      "50/50 [==============================] - 0s 6ms/step - loss: 1.2004 - accuracy: 0.6581\n",
      "50/50 [==============================] - 4s 72ms/step - loss: 0.6742 - accuracy: 0.7909\n",
      "50/50 [==============================] - 0s 6ms/step - loss: 1.1798 - accuracy: 0.6981\n",
      "50/50 [==============================] - 4s 72ms/step - loss: 0.4418 - accuracy: 0.8647\n",
      "50/50 [==============================] - 0s 7ms/step - loss: 1.2977 - accuracy: 0.7312\n",
      "50/50 [==============================] - 4s 72ms/step - loss: 0.3632 - accuracy: 0.8986\n",
      "50/50 [==============================] - 0s 7ms/step - loss: 1.3441 - accuracy: 0.7175\n",
      "50/50 [==============================] - 4s 72ms/step - loss: 0.2589 - accuracy: 0.9309\n",
      "50/50 [==============================] - 0s 8ms/step - loss: 1.5424 - accuracy: 0.7444\n",
      "50/50 [==============================] - 4s 72ms/step - loss: 0.2077 - accuracy: 0.9441\n",
      "50/50 [==============================] - 0s 7ms/step - loss: 1.6272 - accuracy: 0.7331\n",
      "50/50 [==============================] - 4s 73ms/step - loss: 0.1642 - accuracy: 0.9563\n",
      "50/50 [==============================] - 0s 7ms/step - loss: 1.8215 - accuracy: 0.7475\n",
      "50/50 [==============================] - 4s 73ms/step - loss: 0.1212 - accuracy: 0.9716\n",
      "50/50 [==============================] - 0s 7ms/step - loss: 2.0489 - accuracy: 0.7513\n",
      "50/50 [==============================] - 4s 73ms/step - loss: 0.1198 - accuracy: 0.9725\n",
      "50/50 [==============================] - 0s 7ms/step - loss: 2.1293 - accuracy: 0.7237\n",
      "50/50 [==============================] - 4s 72ms/step - loss: 0.1124 - accuracy: 0.9773\n",
      "50/50 [==============================] - 0s 7ms/step - loss: 1.9812 - accuracy: 0.7456\n",
      "50/50 [==============================] - 4s 73ms/step - loss: 0.1468 - accuracy: 0.9716\n",
      "50/50 [==============================] - 0s 6ms/step - loss: 1.8481 - accuracy: 0.7431\n",
      "50/50 [==============================] - 4s 72ms/step - loss: 0.1078 - accuracy: 0.9744\n",
      "50/50 [==============================] - 0s 7ms/step - loss: 1.9967 - accuracy: 0.7406\n",
      "50/50 [==============================] - 4s 73ms/step - loss: 0.0569 - accuracy: 0.9866\n",
      "50/50 [==============================] - 0s 7ms/step - loss: 2.2578 - accuracy: 0.7494\n",
      "50/50 [==============================] - 4s 72ms/step - loss: 0.0599 - accuracy: 0.9848\n",
      "50/50 [==============================] - 0s 7ms/step - loss: 2.3497 - accuracy: 0.7400\n",
      "50/50 [==============================] - 4s 72ms/step - loss: 0.0846 - accuracy: 0.9795\n",
      "50/50 [==============================] - 0s 7ms/step - loss: 2.7364 - accuracy: 0.7269\n",
      "50/50 [==============================] - 4s 73ms/step - loss: 0.0942 - accuracy: 0.9825\n",
      "50/50 [==============================] - 0s 7ms/step - loss: 2.2261 - accuracy: 0.7325\n",
      "50/50 [==============================] - 4s 72ms/step - loss: 0.0627 - accuracy: 0.9866\n",
      "50/50 [==============================] - 0s 7ms/step - loss: 2.4012 - accuracy: 0.7269\n",
      "50/50 [==============================] - 4s 73ms/step - loss: 0.0579 - accuracy: 0.9864\n",
      "50/50 [==============================] - 0s 7ms/step - loss: 2.3916 - accuracy: 0.7356\n",
      "50/50 [==============================] - 4s 73ms/step - loss: 0.0348 - accuracy: 0.9916\n",
      "50/50 [==============================] - 0s 7ms/step - loss: 2.5215 - accuracy: 0.7394\n",
      "50/50 [==============================] - 4s 73ms/step - loss: 0.0370 - accuracy: 0.9917\n",
      "50/50 [==============================] - 0s 7ms/step - loss: 2.6675 - accuracy: 0.7231\n",
      "50/50 [==============================] - 4s 73ms/step - loss: 0.0445 - accuracy: 0.9902\n",
      "50/50 [==============================] - 0s 7ms/step - loss: 2.5679 - accuracy: 0.7306\n",
      "50/50 [==============================] - 4s 73ms/step - loss: 0.0306 - accuracy: 0.9922\n",
      "50/50 [==============================] - 0s 6ms/step - loss: 2.4434 - accuracy: 0.7513\n",
      "50/50 [==============================] - 4s 72ms/step - loss: 0.0216 - accuracy: 0.9948\n",
      "50/50 [==============================] - 0s 7ms/step - loss: 2.7505 - accuracy: 0.7475\n",
      "50/50 [==============================] - 4s 73ms/step - loss: 0.0176 - accuracy: 0.9955\n",
      "50/50 [==============================] - 0s 7ms/step - loss: 2.9098 - accuracy: 0.7469\n",
      "50/50 [==============================] - 4s 73ms/step - loss: 0.0163 - accuracy: 0.9956\n",
      "50/50 [==============================] - 0s 7ms/step - loss: 3.0593 - accuracy: 0.7431\n",
      "50/50 [==============================] - 4s 73ms/step - loss: 0.0166 - accuracy: 0.9956\n",
      "50/50 [==============================] - 0s 7ms/step - loss: 3.0729 - accuracy: 0.7525\n",
      "50/50 [==============================] - 4s 73ms/step - loss: 0.0145 - accuracy: 0.9962\n",
      "50/50 [==============================] - 0s 7ms/step - loss: 3.1891 - accuracy: 0.7494\n",
      "50/50 [==============================] - 4s 73ms/step - loss: 0.0136 - accuracy: 0.9959\n",
      "50/50 [==============================] - 0s 7ms/step - loss: 3.3686 - accuracy: 0.7469\n",
      "50/50 [==============================] - 4s 73ms/step - loss: 0.0140 - accuracy: 0.9958\n",
      "50/50 [==============================] - 0s 7ms/step - loss: 3.6327 - accuracy: 0.7444\n",
      "50/50 [==============================] - 4s 73ms/step - loss: 0.0203 - accuracy: 0.9955\n",
      "50/50 [==============================] - 0s 6ms/step - loss: 3.6756 - accuracy: 0.7287\n",
      "50/50 [==============================] - 4s 73ms/step - loss: 0.0801 - accuracy: 0.9886\n",
      "50/50 [==============================] - 0s 7ms/step - loss: 2.7563 - accuracy: 0.7031\n",
      "50/50 [==============================] - 4s 73ms/step - loss: 0.0552 - accuracy: 0.9889\n",
      "50/50 [==============================] - 0s 7ms/step - loss: 3.0747 - accuracy: 0.6956\n",
      "50/50 [==============================] - 4s 73ms/step - loss: 0.0606 - accuracy: 0.9869\n",
      "50/50 [==============================] - 0s 7ms/step - loss: 2.3732 - accuracy: 0.7269\n",
      "50/50 [==============================] - 4s 73ms/step - loss: 0.0250 - accuracy: 0.9947\n",
      "50/50 [==============================] - 0s 7ms/step - loss: 2.7253 - accuracy: 0.7325\n",
      "50/50 [==============================] - 4s 73ms/step - loss: 0.0292 - accuracy: 0.9939\n",
      "50/50 [==============================] - 0s 7ms/step - loss: 2.5969 - accuracy: 0.7262\n",
      "50/50 [==============================] - 4s 73ms/step - loss: 0.0176 - accuracy: 0.9959\n",
      "50/50 [==============================] - 0s 7ms/step - loss: 3.0149 - accuracy: 0.7169\n",
      "50/50 [==============================] - 4s 73ms/step - loss: 0.0192 - accuracy: 0.9953\n",
      "50/50 [==============================] - 0s 7ms/step - loss: 2.9216 - accuracy: 0.7312\n",
      "50/50 [==============================] - 4s 73ms/step - loss: 0.0174 - accuracy: 0.9953\n",
      "50/50 [==============================] - 0s 6ms/step - loss: 2.9380 - accuracy: 0.7237\n"
     ]
    },
    {
     "data": {
      "text/plain": [
       "[<matplotlib.lines.Line2D at 0x7f74a4143070>]"
      ]
     },
     "execution_count": 8,
     "metadata": {},
     "output_type": "execute_result"
    },
    {
     "data": {
      "image/png": "[encoded data removed]",
      "text/plain": [
       "<Figure size 640x480 with 1 Axes>"
      ]
     },
     "metadata": {},
     "output_type": "display_data"
    }
   ],
   "source": [
    "train_acc = [];\n",
    "test_acc = [];\n",
    "for i_iter in range(40):\n",
    "    train_history = model.fit(x=X, y=y, epochs=1, batch_size=128);\n",
    "    _, test_acc_i = model.evaluate(x=Xv, y=yv)\n",
    "    train_acc.append(train_history.history['accuracy'][0])\n",
    "    test_acc.append(test_acc_i)\n",
    "train_acc = np.vstack(train_acc)\n",
    "test_acc = np.vstack(test_acc)\n",
    "plt.plot(train_acc)\n",
    "plt.plot(test_acc)"
   ]
  },
  {
   "cell_type": "code",
   "execution_count": null,
   "id": "3e957cb8-fab2-4d12-8353-5d36bdcd7b9e",
   "metadata": {},
   "outputs": [],
   "source": []
  }
 ],
 "metadata": {
  "kernelspec": {
   "display_name": "Python 3 (ipykernel)",
   "language": "python",
   "name": "python3"
  },
  "language_info": {
   "codemirror_mode": {
    "name": "ipython",
    "version": 3
   },
   "file_extension": ".py",
   "mimetype": "text/x-python",
   "name": "python",
   "nbconvert_exporter": "python",
   "pygments_lexer": "ipython3",
   "version": "3.10.6"
  }
 },
 "nbformat": 4,
 "nbformat_minor": 5
}

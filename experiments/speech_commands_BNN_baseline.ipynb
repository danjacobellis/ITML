{
 "cells": [
  {
   "cell_type": "code",
   "execution_count": 1,
   "id": "318f0f9f-3f2a-49ef-be37-2cf2157169af",
   "metadata": {},
   "outputs": [],
   "source": [
    "import matplotlib.pyplot as plt\n",
    "import time"
   ]
  },
  {
   "cell_type": "code",
   "execution_count": 2,
   "id": "e552620d-51b5-4e85-98df-ec90cf696c1a",
   "metadata": {},
   "outputs": [
    {
     "name": "stderr",
     "output_type": "stream",
     "text": [
      "2022-12-05 15:50:02.623859: I tensorflow/core/platform/cpu_feature_guard.cc:193] This TensorFlow binary is optimized with oneAPI Deep Neural Network Library (oneDNN) to use the following CPU instructions in performance-critical operations:  AVX2 FMA\n",
      "To enable them in other operations, rebuild TensorFlow with the appropriate compiler flags.\n",
      "2022-12-05 15:50:03.336297: W tensorflow/compiler/xla/stream_executor/platform/default/dso_loader.cc:64] Could not load dynamic library 'libnvinfer.so.7'; dlerror: libnvinfer.so.7: cannot open shared object file: No such file or directory\n",
      "2022-12-05 15:50:03.336359: W tensorflow/compiler/xla/stream_executor/platform/default/dso_loader.cc:64] Could not load dynamic library 'libnvinfer_plugin.so.7'; dlerror: libnvinfer_plugin.so.7: cannot open shared object file: No such file or directory\n",
      "2022-12-05 15:50:03.336366: W tensorflow/compiler/tf2tensorrt/utils/py_utils.cc:38] TF-TRT Warning: Cannot dlopen some TensorRT libraries. If you would like to use Nvidia GPU with TensorRT, please make sure the missing libraries mentioned above are installed properly.\n"
     ]
    }
   ],
   "source": [
    "from common_functions import *"
   ]
  },
  {
   "cell_type": "code",
   "execution_count": 3,
   "id": "26f3bcf8-0eed-42a3-97a3-4d1bdb3a834d",
   "metadata": {},
   "outputs": [
    {
     "name": "stdout",
     "output_type": "stream",
     "text": [
      "Found 8000 files belonging to 8 classes.\n",
      "Using 6400 files for training.\n",
      "Using 1600 files for validation.\n"
     ]
    },
    {
     "name": "stderr",
     "output_type": "stream",
     "text": [
      "2022-12-05 15:50:04.708209: I tensorflow/compiler/xla/stream_executor/cuda/cuda_gpu_executor.cc:981] successful NUMA node read from SysFS had negative value (-1), but there must be at least one NUMA node, so returning NUMA node zero\n",
      "2022-12-05 15:50:04.731039: I tensorflow/compiler/xla/stream_executor/cuda/cuda_gpu_executor.cc:981] successful NUMA node read from SysFS had negative value (-1), but there must be at least one NUMA node, so returning NUMA node zero\n",
      "2022-12-05 15:50:04.731279: I tensorflow/compiler/xla/stream_executor/cuda/cuda_gpu_executor.cc:981] successful NUMA node read from SysFS had negative value (-1), but there must be at least one NUMA node, so returning NUMA node zero\n",
      "2022-12-05 15:50:04.731810: I tensorflow/core/platform/cpu_feature_guard.cc:193] This TensorFlow binary is optimized with oneAPI Deep Neural Network Library (oneDNN) to use the following CPU instructions in performance-critical operations:  AVX2 FMA\n",
      "To enable them in other operations, rebuild TensorFlow with the appropriate compiler flags.\n",
      "2022-12-05 15:50:04.732239: I tensorflow/compiler/xla/stream_executor/cuda/cuda_gpu_executor.cc:981] successful NUMA node read from SysFS had negative value (-1), but there must be at least one NUMA node, so returning NUMA node zero\n",
      "2022-12-05 15:50:04.732425: I tensorflow/compiler/xla/stream_executor/cuda/cuda_gpu_executor.cc:981] successful NUMA node read from SysFS had negative value (-1), but there must be at least one NUMA node, so returning NUMA node zero\n",
      "2022-12-05 15:50:04.732616: I tensorflow/compiler/xla/stream_executor/cuda/cuda_gpu_executor.cc:981] successful NUMA node read from SysFS had negative value (-1), but there must be at least one NUMA node, so returning NUMA node zero\n",
      "2022-12-05 15:50:05.219287: I tensorflow/compiler/xla/stream_executor/cuda/cuda_gpu_executor.cc:981] successful NUMA node read from SysFS had negative value (-1), but there must be at least one NUMA node, so returning NUMA node zero\n",
      "2022-12-05 15:50:05.219508: I tensorflow/compiler/xla/stream_executor/cuda/cuda_gpu_executor.cc:981] successful NUMA node read from SysFS had negative value (-1), but there must be at least one NUMA node, so returning NUMA node zero\n",
      "2022-12-05 15:50:05.219689: I tensorflow/compiler/xla/stream_executor/cuda/cuda_gpu_executor.cc:981] successful NUMA node read from SysFS had negative value (-1), but there must be at least one NUMA node, so returning NUMA node zero\n",
      "2022-12-05 15:50:05.219836: I tensorflow/core/common_runtime/gpu/gpu_device.cc:1613] Created device /job:localhost/replica:0/task:0/device:GPU:0 with 10646 MB memory:  -> device: 0, name: NVIDIA GeForce RTX 2060, pci bus id: 0000:09:00.0, compute capability: 7.5\n"
     ]
    }
   ],
   "source": [
    "X, y, Xv, yv = load_mini_speech_commands()\n",
    "X = slog(X)\n",
    "Xv = slog(Xv)"
   ]
  },
  {
   "cell_type": "code",
   "execution_count": 13,
   "id": "f16d19c8-bdc8-41bf-a00f-daaff7c2b414",
   "metadata": {},
   "outputs": [
    {
     "name": "stdout",
     "output_type": "stream",
     "text": [
      "+sequential_1 stats-----------------------------------------------------------------------+\n",
      "| Layer                  Input prec.             Outputs  # 32-bit    Memory  32-bit MACs |\n",
      "|                              (bit)                           x 1      (kB)              |\n",
      "+-----------------------------------------------------------------------------------------+\n",
      "| batch_normalization_1            -   (-1, 128, 128, 1)         2      0.01            0 |\n",
      "| quant_conv2d_2                   -  (-1, 126, 126, 32)       320      1.25      4572288 |\n",
      "| max_pooling2d_2                  -    (-1, 63, 63, 32)         0         0            0 |\n",
      "| quant_conv2d_3                   -    (-1, 61, 61, 64)     18496     72.25     68585472 |\n",
      "| max_pooling2d_3                  -    (-1, 30, 30, 64)         0         0            0 |\n",
      "| flatten_1                        -         (-1, 57600)         0         0            0 |\n",
      "| quant_dense_2                    -           (-1, 128)   7372928  28800.50      7372800 |\n",
      "| quant_dense_3                    -             (-1, 8)      1032      4.03         1024 |\n",
      "+-----------------------------------------------------------------------------------------+\n",
      "| Total                                                    7392778  28878.04     80531584 |\n",
      "+-----------------------------------------------------------------------------------------+\n",
      "+sequential_1 summary----------------------+\n",
      "| Total params                   7.39 M    |\n",
      "| Trainable params               7.39 M    |\n",
      "| Non-trainable params           2         |\n",
      "| Model size                     28.20 MiB |\n",
      "| Model size (8-bit FP weights)  7.05 MiB  |\n",
      "| Float-32 Equivalent            28.20 MiB |\n",
      "| Compression Ratio of Memory    1.00      |\n",
      "| Number of MACs                 80.5 M    |\n",
      "+------------------------------------------+\n"
     ]
    }
   ],
   "source": [
    "model = models.Sequential([\n",
    "    layers.Input(shape=(128,128,1)),\n",
    "    layers.BatchNormalization(),\n",
    "    lq.layers.QuantConv2D(32, 3, activation='relu'),\n",
    "    layers.MaxPooling2D(pool_size=(2,2)),\n",
    "    lq.layers.QuantConv2D(64, 3, activation='relu'),\n",
    "    layers.MaxPooling2D(pool_size=(2,2)),\n",
    "    layers.Flatten(),\n",
    "    lq.layers.QuantDense(128, activation='relu'),\n",
    "    lq.layers.QuantDense(8),\n",
    "])\n",
    "lq.models.summary(model)"
   ]
  },
  {
   "cell_type": "code",
   "execution_count": 14,
   "id": "2c475c47-a271-47ae-b61c-28306330f422",
   "metadata": {},
   "outputs": [],
   "source": [
    "model.compile(\n",
    "    optimizer=tf.keras.optimizers.Adam(),\n",
    "    loss=tf.keras.losses.SparseCategoricalCrossentropy(from_logits=True),\n",
    "    metrics=['accuracy'],\n",
    ")"
   ]
  },
  {
   "cell_type": "code",
   "execution_count": 15,
   "id": "75f02840-d4fd-464a-969d-7eb8986fe1b6",
   "metadata": {},
   "outputs": [],
   "source": [
    "train_acc = [];\n",
    "test_acc = [];\n",
    "elapsed_time = [];"
   ]
  },
  {
   "cell_type": "code",
   "execution_count": 16,
   "id": "849dff1b-2a28-4f7d-9e12-8c695f5e44e8",
   "metadata": {},
   "outputs": [
    {
     "name": "stdout",
     "output_type": "stream",
     "text": [
      "100/100 [==============================] - 3s 20ms/step - loss: 1.5452 - accuracy: 0.4652\n",
      "50/50 [==============================] - 0s 4ms/step - loss: 1.2601 - accuracy: 0.6344\n",
      "100/100 [==============================] - 2s 20ms/step - loss: 0.7323 - accuracy: 0.7545\n",
      "50/50 [==============================] - 0s 5ms/step - loss: 0.8471 - accuracy: 0.7206\n",
      "100/100 [==============================] - 2s 20ms/step - loss: 0.3823 - accuracy: 0.8761\n",
      "50/50 [==============================] - 0s 4ms/step - loss: 0.6436 - accuracy: 0.7944\n",
      "100/100 [==============================] - 2s 20ms/step - loss: 0.2156 - accuracy: 0.9323\n",
      "50/50 [==============================] - 0s 4ms/step - loss: 0.6548 - accuracy: 0.8238\n",
      "100/100 [==============================] - 2s 20ms/step - loss: 0.1321 - accuracy: 0.9594\n",
      "50/50 [==============================] - 0s 4ms/step - loss: 0.7563 - accuracy: 0.8319\n",
      "100/100 [==============================] - 2s 20ms/step - loss: 0.1013 - accuracy: 0.9727\n",
      "50/50 [==============================] - 0s 4ms/step - loss: 0.9046 - accuracy: 0.8062\n",
      "100/100 [==============================] - 2s 20ms/step - loss: 0.1085 - accuracy: 0.9700\n",
      "50/50 [==============================] - 0s 4ms/step - loss: 0.8849 - accuracy: 0.8256\n",
      "100/100 [==============================] - 2s 20ms/step - loss: 0.0808 - accuracy: 0.9772\n",
      "50/50 [==============================] - 0s 4ms/step - loss: 0.9578 - accuracy: 0.8131\n",
      "100/100 [==============================] - 2s 20ms/step - loss: 0.0552 - accuracy: 0.9848\n",
      "50/50 [==============================] - 0s 4ms/step - loss: 1.0359 - accuracy: 0.8100\n",
      "100/100 [==============================] - 2s 20ms/step - loss: 0.0348 - accuracy: 0.9916\n",
      "50/50 [==============================] - 0s 5ms/step - loss: 1.1512 - accuracy: 0.8256\n",
      "100/100 [==============================] - 2s 20ms/step - loss: 0.0758 - accuracy: 0.9814\n",
      "50/50 [==============================] - 0s 4ms/step - loss: 1.1591 - accuracy: 0.8087\n",
      "100/100 [==============================] - 2s 20ms/step - loss: 0.0677 - accuracy: 0.9805\n",
      "50/50 [==============================] - 0s 5ms/step - loss: 1.0289 - accuracy: 0.8181\n",
      "100/100 [==============================] - 2s 20ms/step - loss: 0.0416 - accuracy: 0.9908\n",
      "50/50 [==============================] - 0s 4ms/step - loss: 1.2122 - accuracy: 0.8194\n",
      "100/100 [==============================] - 2s 20ms/step - loss: 0.0320 - accuracy: 0.9922\n",
      "50/50 [==============================] - 0s 5ms/step - loss: 1.2722 - accuracy: 0.8175\n",
      "100/100 [==============================] - 2s 20ms/step - loss: 0.0260 - accuracy: 0.9931\n",
      "50/50 [==============================] - 0s 4ms/step - loss: 1.4491 - accuracy: 0.8119\n"
     ]
    },
    {
     "data": {
      "text/plain": [
       "[<matplotlib.lines.Line2D at 0x7f012c456dd0>]"
      ]
     },
     "execution_count": 16,
     "metadata": {},
     "output_type": "execute_result"
    },
    {
     "data": {
      "image/png": "[encoded data removed]",
      "text/plain": [
       "<Figure size 640x480 with 1 Axes>"
      ]
     },
     "metadata": {},
     "output_type": "display_data"
    }
   ],
   "source": [
    "for i_iter in range(15):\n",
    "    t = time.process_time()\n",
    "    train_history = model.fit(x=X, y=y, epochs=1, batch_size=64);\n",
    "    elapsed_time.append(time.process_time()-t)\n",
    "    _, test_acc_i = model.evaluate(x=Xv, y=yv)\n",
    "    train_acc.append(train_history.history['accuracy'][0])\n",
    "    test_acc.append(test_acc_i)\n",
    "plt.plot(np.vstack(train_acc))\n",
    "plt.plot(np.vstack(test_acc))"
   ]
  },
  {
   "cell_type": "code",
   "execution_count": 18,
   "id": "839a172f-c778-409e-a86c-56a915691a19",
   "metadata": {},
   "outputs": [
    {
     "name": "stdout",
     "output_type": "stream",
     "text": [
      "2.876771187000003 seconds/iteration\n",
      "0.8174999952316284 test accuracy\n"
     ]
    }
   ],
   "source": [
    "print(np.median(elapsed_time), \"seconds/iteration\")\n",
    "print(np.median(test_acc[-5:]), \"test accuracy\")"
   ]
  }
 ],
 "metadata": {
  "kernelspec": {
   "display_name": "Python 3 (ipykernel)",
   "language": "python",
   "name": "python3"
  },
  "language_info": {
   "codemirror_mode": {
    "name": "ipython",
    "version": 3
   },
   "file_extension": ".py",
   "mimetype": "text/x-python",
   "name": "python",
   "nbconvert_exporter": "python",
   "pygments_lexer": "ipython3",
   "version": "3.10.6"
  }
 },
 "nbformat": 4,
 "nbformat_minor": 5
}

{
 "cells": [
  {
   "cell_type": "code",
   "execution_count": 1,
   "id": "318f0f9f-3f2a-49ef-be37-2cf2157169af",
   "metadata": {},
   "outputs": [],
   "source": [
    "import matplotlib.pyplot as plt\n",
    "import time"
   ]
  },
  {
   "cell_type": "code",
   "execution_count": 2,
   "id": "e552620d-51b5-4e85-98df-ec90cf696c1a",
   "metadata": {},
   "outputs": [
    {
     "name": "stderr",
     "output_type": "stream",
     "text": [
      "2022-12-05 17:09:36.926657: I tensorflow/core/platform/cpu_feature_guard.cc:193] This TensorFlow binary is optimized with oneAPI Deep Neural Network Library (oneDNN) to use the following CPU instructions in performance-critical operations:  AVX2 FMA\n",
      "To enable them in other operations, rebuild TensorFlow with the appropriate compiler flags.\n",
      "2022-12-05 17:09:37.641380: W tensorflow/compiler/xla/stream_executor/platform/default/dso_loader.cc:64] Could not load dynamic library 'libnvinfer.so.7'; dlerror: libnvinfer.so.7: cannot open shared object file: No such file or directory\n",
      "2022-12-05 17:09:37.641434: W tensorflow/compiler/xla/stream_executor/platform/default/dso_loader.cc:64] Could not load dynamic library 'libnvinfer_plugin.so.7'; dlerror: libnvinfer_plugin.so.7: cannot open shared object file: No such file or directory\n",
      "2022-12-05 17:09:37.641441: W tensorflow/compiler/tf2tensorrt/utils/py_utils.cc:38] TF-TRT Warning: Cannot dlopen some TensorRT libraries. If you would like to use Nvidia GPU with TensorRT, please make sure the missing libraries mentioned above are installed properly.\n"
     ]
    }
   ],
   "source": [
    "from common_functions import *"
   ]
  },
  {
   "cell_type": "code",
   "execution_count": 45,
   "id": "1a4c1f39-7b66-4894-8021-7b1223b598d6",
   "metadata": {},
   "outputs": [],
   "source": [
    "C = np.load('encodec_transformed_data/C.npy')\n",
    "Cv = np.load('encodec_transformed_data/Cv.npy')\n",
    "y = np.load('encodec_transformed_data/yC.npy')\n",
    "yv = np.load('encodec_transformed_data/yCv.npy')\n",
    "C = np.reshape(C,(-1,75,20))\n",
    "Cv = np.reshape(Cv,(-1,75,20))\n",
    "# C = np.transpose(C,axes=(0,3,2,1))\n",
    "# Cv = np.transpose(Cv,axes=(0,3,2,1))"
   ]
  },
  {
   "cell_type": "code",
   "execution_count": 114,
   "id": "f16d19c8-bdc8-41bf-a00f-daaff7c2b414",
   "metadata": {},
   "outputs": [
    {
     "name": "stdout",
     "output_type": "stream",
     "text": [
      "+sequential_25 stats-----------------------------------------------------------------------------------------+\n",
      "| Layer                   Input prec.           Outputs  # 1-bit  # 32-bit   Memory  1-bit MACs  32-bit MACs |\n",
      "|                               (bit)                        x 1       x 1     (kB)                          |\n",
      "+------------------------------------------------------------------------------------------------------------+\n",
      "| quant_conv2d_50                   1  (-1, 73, 18, 32)      288        32     0.16      378432            0 |\n",
      "| max_pooling2d_34                  -   (-1, 36, 9, 32)        0         0        0           0            0 |\n",
      "| batch_normalization_14            -   (-1, 36, 9, 32)        0        64     0.25           0            0 |\n",
      "| quant_conv2d_51                   -   (-1, 34, 7, 64)        0     18496    72.25           0      4386816 |\n",
      "| max_pooling2d_35                  -   (-1, 17, 3, 64)        0         0        0           0            0 |\n",
      "| flatten_25                        -        (-1, 3264)        0         0        0           0            0 |\n",
      "| quant_dense_65                    -         (-1, 128)        0    417920  1632.50           0       417792 |\n",
      "| quant_dense_66                    -           (-1, 8)        0      1032     4.03           0         1024 |\n",
      "+------------------------------------------------------------------------------------------------------------+\n",
      "| Total                                                      288    437544  1709.19      378432      4805632 |\n",
      "+------------------------------------------------------------------------------------------------------------+\n",
      "+sequential_25 summary-------------------------+\n",
      "| Total params                      438 k      |\n",
      "| Trainable params                  438 k      |\n",
      "| Non-trainable params              64         |\n",
      "| Model size                        1.67 MiB   |\n",
      "| Model size (8-bit FP weights)     427.32 KiB |\n",
      "| Float-32 Equivalent               1.67 MiB   |\n",
      "| Compression Ratio of Memory       1.00       |\n",
      "| Number of MACs                    5.18 M     |\n",
      "| Ratio of MACs that are binarized  0.0730     |\n",
      "+----------------------------------------------+\n"
     ]
    }
   ],
   "source": [
    "model = models.Sequential([\n",
    "    layers.Input(shape=(75,20,1)),\n",
    "    lq.layers.QuantConv2D(32, (3,3), activation='relu',input_quantizer=\"ste_sign\",kernel_quantizer=\"ste_sign\",kernel_constraint=\"weight_clip\"),\n",
    "    layers.MaxPooling2D(pool_size=(2,2)),\n",
    "    layers.BatchNormalization(),\n",
    "    lq.layers.QuantConv2D(64, (3,3), activation='relu'),\n",
    "    layers.MaxPooling2D(pool_size=(2,2)),\n",
    "    layers.Flatten(),\n",
    "    lq.layers.QuantDense(128, activation='relu'),\n",
    "    lq.layers.QuantDense(8),\n",
    "])\n",
    "lq.models.summary(model)"
   ]
  },
  {
   "cell_type": "code",
   "execution_count": 115,
   "id": "7098b610-f6d1-4f0c-85a8-d31c117507a1",
   "metadata": {},
   "outputs": [],
   "source": [
    "model.compile(\n",
    "    optimizer=tf.keras.optimizers.Adam(),\n",
    "    loss=tf.keras.losses.SparseCategoricalCrossentropy(from_logits=True),\n",
    "    metrics=['accuracy'],\n",
    ")"
   ]
  },
  {
   "cell_type": "code",
   "execution_count": 116,
   "id": "75f02840-d4fd-464a-969d-7eb8986fe1b6",
   "metadata": {},
   "outputs": [],
   "source": [
    "train_acc = [];\n",
    "test_acc = [];\n",
    "elapsed_time = [];"
   ]
  },
  {
   "cell_type": "code",
   "execution_count": 125,
   "id": "849dff1b-2a28-4f7d-9e12-8c695f5e44e8",
   "metadata": {},
   "outputs": [
    {
     "data": {
      "text/plain": [
       "[<matplotlib.lines.Line2D at 0x7fe97814d540>]"
      ]
     },
     "execution_count": 125,
     "metadata": {},
     "output_type": "execute_result"
    },
    {
     "data": {
      "image/png": "[encoded data removed]",
      "text/plain": [
       "<Figure size 640x480 with 1 Axes>"
      ]
     },
     "metadata": {},
     "output_type": "display_data"
    }
   ],
   "source": [
    "for i_iter in range(3000):\n",
    "    t = time.process_time()\n",
    "    train_history = model.fit(x=C, y=y, epochs=1, batch_size=64);\n",
    "    elapsed_time.append(time.process_time()-t)\n",
    "    _, test_acc_i = model.evaluate(x=Cv, y=yv)\n",
    "    train_acc.append(train_history.history['accuracy'][0])\n",
    "    test_acc.append(test_acc_i)\n",
    "    display.clear_output()\n",
    "plt.plot(np.vstack(train_acc))\n",
    "plt.plot(np.vstack(test_acc))"
   ]
  },
  {
   "cell_type": "code",
   "execution_count": 126,
   "id": "839a172f-c778-409e-a86c-56a915691a19",
   "metadata": {},
   "outputs": [
    {
     "name": "stdout",
     "output_type": "stream",
     "text": [
      "0.9301673905001735 seconds/iteration\n",
      "0.26499998569488525 test accuracy\n"
     ]
    }
   ],
   "source": [
    "print(np.median(elapsed_time), \"seconds/iteration\")\n",
    "print(np.median(test_acc[-5:]), \"test accuracy\")"
   ]
  }
 ],
 "metadata": {
  "kernelspec": {
   "display_name": "Python 3 (ipykernel)",
   "language": "python",
   "name": "python3"
  },
  "language_info": {
   "codemirror_mode": {
    "name": "ipython",
    "version": 3
   },
   "file_extension": ".py",
   "mimetype": "text/x-python",
   "name": "python",
   "nbconvert_exporter": "python",
   "pygments_lexer": "ipython3",
   "version": "3.10.6"
  }
 },
 "nbformat": 4,
 "nbformat_minor": 5
}

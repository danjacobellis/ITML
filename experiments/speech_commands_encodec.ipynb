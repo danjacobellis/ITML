{
 "cells": [
  {
   "cell_type": "code",
   "execution_count": 1,
   "id": "318f0f9f-3f2a-49ef-be37-2cf2157169af",
   "metadata": {},
   "outputs": [],
   "source": [
    "import matplotlib.pyplot as plt\n",
    "import time"
   ]
  },
  {
   "cell_type": "code",
   "execution_count": 4,
   "id": "e552620d-51b5-4e85-98df-ec90cf696c1a",
   "metadata": {},
   "outputs": [],
   "source": [
    "from common_functions import *"
   ]
  },
  {
   "cell_type": "code",
   "execution_count": 50,
   "id": "7a20c521-8405-4820-9011-3dd1185a1a04",
   "metadata": {},
   "outputs": [],
   "source": [
    "from encodec import EncodecModel\n",
    "from encodec.utils import convert_audio\n",
    "import torchaudio\n",
    "import torch\n",
    "import resampy"
   ]
  },
  {
   "cell_type": "code",
   "execution_count": 81,
   "id": "6292fc4b-a800-4106-b0eb-41d69c1f0c70",
   "metadata": {},
   "outputs": [],
   "source": [
    "def encodec(x, model):\n",
    "    wav = torch.tensor(np.reshape(x,-1)).unsqueeze(0).unsqueeze(0)\n",
    "    wav = convert_audio(wav, 16256, model.sample_rate, model.channels)\n",
    "    with torch.no_grad():\n",
    "        encoded_frames = model.encode(wav)\n",
    "    decoded_wav = np.array(model.decode(encoded_frames).detach())\n",
    "    decoded_wav = resampy.resample(decoded_wav,24000,16256)\n",
    "    return decoded_wav\n",
    "\n",
    "def load_mini_speech_commands_encodec():\n",
    "    DATASET_PATH = 'data/mini_speech_commands'\n",
    "\n",
    "    data_dir = pathlib.Path(DATASET_PATH)\n",
    "    if not data_dir.exists():\n",
    "      tf.keras.utils.get_file(\n",
    "          'mini_speech_commands.zip',\n",
    "          origin=\"http://storage.googleapis.com/download.tensorflow.org/data/mini_speech_commands.zip\",\n",
    "          extract=True,\n",
    "          cache_dir='.', cache_subdir='data')\n",
    "\n",
    "    train_ds, val_ds = tf.keras.utils.audio_dataset_from_directory(\n",
    "        directory=data_dir,\n",
    "        batch_size=None,\n",
    "        validation_split=0.2,\n",
    "        seed=0,\n",
    "        output_sequence_length=16256,\n",
    "        subset='both')\n",
    "    \n",
    "    model = EncodecModel.encodec_model_24khz()\n",
    "    model.set_target_bandwidth(1.5) \n",
    "    \n",
    "    X = []\n",
    "    y = []\n",
    "    Xv = []\n",
    "    yv = []\n",
    "    for xi,yi in train_ds:\n",
    "        xi = encodec(xi,model)\n",
    "        X.append(np.expand_dims(STFT(xi),0))\n",
    "        y.append(yi)\n",
    "    for xi,yi in val_ds:\n",
    "        xi = encodec(xi,model)\n",
    "        Xv.append(np.expand_dims(STFT(xi),0))\n",
    "        yv.append(yi)\n",
    "    X = np.vstack(X)\n",
    "    y = np.vstack(y)\n",
    "    Xv = np.vstack(Xv)\n",
    "    yv = np.vstack(yv)\n",
    "    \n",
    "    return X, y, Xv, yv"
   ]
  },
  {
   "cell_type": "code",
   "execution_count": 82,
   "id": "1a4c1f39-7b66-4894-8021-7b1223b598d6",
   "metadata": {},
   "outputs": [
    {
     "name": "stdout",
     "output_type": "stream",
     "text": [
      "Found 8000 files belonging to 8 classes.\n",
      "Using 6400 files for training.\n",
      "Using 1600 files for validation.\n"
     ]
    }
   ],
   "source": [
    "# X, y, Xv, yv = load_mini_speech_commands_encodec()\n",
    "# np.save('encodec_transformed_data/X',X)\n",
    "# np.save('encodec_transformed_data/y',y)\n",
    "# np.save('encodec_transformed_data/Xv',Xv)\n",
    "# np.save('encodec_transformed_data/yv',yv)\n",
    "\n",
    "X = np.load('encodec_transformed_data/X.npy')\n",
    "y = np.load('encodec_transformed_data/y')\n",
    "Xv = np.load('encodec_transformed_data/Xv')\n",
    "yv = np.load('encodec_transformed_data/yv')"
   ]
  },
  {
   "cell_type": "code",
   "execution_count": 84,
   "id": "3e51eb56-fd09-4fda-a005-d5d5effdbc6b",
   "metadata": {},
   "outputs": [],
   "source": [
    "np.save('encodec_transformed_data/X',X)\n",
    "np.save('encodec_transformed_data/y',y)\n",
    "np.save('encodec_transformed_data/Xv',Xv)\n",
    "np.save('encodec_transformed_data/yv',yv)"
   ]
  },
  {
   "cell_type": "code",
   "execution_count": 86,
   "id": "f16d19c8-bdc8-41bf-a00f-daaff7c2b414",
   "metadata": {},
   "outputs": [
    {
     "name": "stdout",
     "output_type": "stream",
     "text": [
      "Model: \"sequential\"\n",
      "_________________________________________________________________\n",
      " Layer (type)                Output Shape              Param #   \n",
      "=================================================================\n",
      " batch_normalization (BatchN  (None, 128, 128, 1)      4         \n",
      " ormalization)                                                   \n",
      "                                                                 \n",
      " conv2d (Conv2D)             (None, 126, 126, 32)      320       \n",
      "                                                                 \n",
      " max_pooling2d (MaxPooling2D  (None, 63, 63, 32)       0         \n",
      " )                                                               \n",
      "                                                                 \n",
      " conv2d_1 (Conv2D)           (None, 61, 61, 64)        18496     \n",
      "                                                                 \n",
      " max_pooling2d_1 (MaxPooling  (None, 30, 30, 64)       0         \n",
      " 2D)                                                             \n",
      "                                                                 \n",
      " flatten (Flatten)           (None, 57600)             0         \n",
      "                                                                 \n",
      " dense (Dense)               (None, 128)               7372928   \n",
      "                                                                 \n",
      " dense_1 (Dense)             (None, 8)                 1032      \n",
      "                                                                 \n",
      "=================================================================\n",
      "Total params: 7,392,780\n",
      "Trainable params: 7,392,778\n",
      "Non-trainable params: 2\n",
      "_________________________________________________________________\n"
     ]
    }
   ],
   "source": [
    "model = models.Sequential([\n",
    "    layers.Input(shape=(128,128,1)),\n",
    "    layers.BatchNormalization(),\n",
    "    layers.Conv2D(32, 3, activation='relu'),\n",
    "    layers.MaxPooling2D(pool_size=(2,2)),\n",
    "    layers.Conv2D(64, 3, activation='relu'),\n",
    "    layers.MaxPooling2D(pool_size=(2,2)),\n",
    "    layers.Flatten(),\n",
    "    layers.Dense(128, activation='relu'),\n",
    "    layers.Dense(8),\n",
    "])\n",
    "\n",
    "model.summary()"
   ]
  },
  {
   "cell_type": "code",
   "execution_count": 87,
   "id": "2c475c47-a271-47ae-b61c-28306330f422",
   "metadata": {},
   "outputs": [],
   "source": [
    "model.compile(\n",
    "    optimizer=tf.keras.optimizers.Adam(),\n",
    "    loss=tf.keras.losses.SparseCategoricalCrossentropy(from_logits=True),\n",
    "    metrics=['accuracy'],\n",
    ")"
   ]
  },
  {
   "cell_type": "code",
   "execution_count": 88,
   "id": "75f02840-d4fd-464a-969d-7eb8986fe1b6",
   "metadata": {},
   "outputs": [],
   "source": [
    "train_acc = [];\n",
    "test_acc = [];\n",
    "elapsed_time = [];"
   ]
  },
  {
   "cell_type": "code",
   "execution_count": 91,
   "id": "849dff1b-2a28-4f7d-9e12-8c695f5e44e8",
   "metadata": {},
   "outputs": [
    {
     "name": "stderr",
     "output_type": "stream",
     "text": [
      "2022-12-05 14:56:25.729778: I tensorflow/compiler/xla/stream_executor/cuda/cuda_dnn.cc:428] Loaded cuDNN version 8500\n",
      "2022-12-05 14:56:26.628236: I tensorflow/tsl/platform/default/subprocess.cc:304] Start cannot spawn child process: No such file or directory\n",
      "2022-12-05 14:56:26.796259: I tensorflow/compiler/xla/service/service.cc:173] XLA service 0x7fb1971bf050 initialized for platform CUDA (this does not guarantee that XLA will be used). Devices:\n",
      "2022-12-05 14:56:26.796286: I tensorflow/compiler/xla/service/service.cc:181]   StreamExecutor device (0): NVIDIA GeForce RTX 2060, Compute Capability 7.5\n",
      "2022-12-05 14:56:26.801136: I tensorflow/compiler/mlir/tensorflow/utils/dump_mlir_util.cc:268] disabling MLIR crash reproducer, set env var `MLIR_CRASH_REPRODUCER_DIRECTORY` to enable.\n",
      "2022-12-05 14:56:26.876479: I tensorflow/tsl/platform/default/subprocess.cc:304] Start cannot spawn child process: No such file or directory\n",
      "2022-12-05 14:56:26.948585: I tensorflow/compiler/jit/xla_compilation_cache.cc:477] Compiled cluster using XLA!  This line is logged at most once for the lifetime of the process.\n"
     ]
    },
    {
     "name": "stdout",
     "output_type": "stream",
     "text": [
      "100/100 [==============================] - 7s 20ms/step - loss: 1.8285 - accuracy: 0.3725\n",
      "50/50 [==============================] - 0s 5ms/step - loss: 1.4215 - accuracy: 0.5056\n",
      "100/100 [==============================] - 2s 20ms/step - loss: 1.0827 - accuracy: 0.6434\n",
      "50/50 [==============================] - 0s 4ms/step - loss: 1.0577 - accuracy: 0.6619\n",
      "100/100 [==============================] - 2s 19ms/step - loss: 0.7121 - accuracy: 0.7694\n",
      "50/50 [==============================] - 0s 5ms/step - loss: 0.9346 - accuracy: 0.7125\n",
      "100/100 [==============================] - 2s 20ms/step - loss: 0.4764 - accuracy: 0.8469\n",
      "50/50 [==============================] - 0s 4ms/step - loss: 0.9484 - accuracy: 0.7250\n",
      "100/100 [==============================] - 2s 19ms/step - loss: 0.3474 - accuracy: 0.8884\n",
      "50/50 [==============================] - 0s 4ms/step - loss: 0.9986 - accuracy: 0.7656\n",
      "100/100 [==============================] - 2s 19ms/step - loss: 0.2558 - accuracy: 0.9200\n",
      "50/50 [==============================] - 0s 4ms/step - loss: 1.1774 - accuracy: 0.7494\n",
      "100/100 [==============================] - 2s 20ms/step - loss: 0.1984 - accuracy: 0.9373\n",
      "50/50 [==============================] - 0s 4ms/step - loss: 1.1818 - accuracy: 0.7638\n",
      "100/100 [==============================] - 2s 19ms/step - loss: 0.1512 - accuracy: 0.9569\n",
      "50/50 [==============================] - 0s 4ms/step - loss: 1.2940 - accuracy: 0.7456\n",
      "100/100 [==============================] - 2s 19ms/step - loss: 0.1558 - accuracy: 0.9570\n",
      "50/50 [==============================] - 0s 4ms/step - loss: 1.4636 - accuracy: 0.7287\n",
      "100/100 [==============================] - 2s 19ms/step - loss: 0.1521 - accuracy: 0.9573\n",
      "50/50 [==============================] - 0s 4ms/step - loss: 1.3397 - accuracy: 0.7663\n",
      "100/100 [==============================] - 2s 20ms/step - loss: 0.0989 - accuracy: 0.9717\n",
      "50/50 [==============================] - 0s 4ms/step - loss: 1.4854 - accuracy: 0.7588\n",
      "100/100 [==============================] - 2s 19ms/step - loss: 0.1114 - accuracy: 0.9688\n",
      "50/50 [==============================] - 0s 4ms/step - loss: 1.5090 - accuracy: 0.7694\n",
      "100/100 [==============================] - 2s 19ms/step - loss: 0.0861 - accuracy: 0.9762\n",
      "50/50 [==============================] - 0s 4ms/step - loss: 1.8602 - accuracy: 0.7481\n",
      "100/100 [==============================] - 2s 19ms/step - loss: 0.0933 - accuracy: 0.9759\n",
      "50/50 [==============================] - 0s 4ms/step - loss: 1.5746 - accuracy: 0.7531\n",
      "100/100 [==============================] - 2s 20ms/step - loss: 0.0641 - accuracy: 0.9820\n",
      "50/50 [==============================] - 0s 4ms/step - loss: 1.8549 - accuracy: 0.7638\n"
     ]
    },
    {
     "data": {
      "text/plain": [
       "[<matplotlib.lines.Line2D at 0x7fb2d9b09e70>]"
      ]
     },
     "execution_count": 91,
     "metadata": {},
     "output_type": "execute_result"
    },
    {
     "data": {
      "image/png": "[encoded data removed]",
      "text/plain": [
       "<Figure size 640x480 with 1 Axes>"
      ]
     },
     "metadata": {},
     "output_type": "display_data"
    }
   ],
   "source": [
    "for i_iter in range(15):\n",
    "    t = time.process_time()\n",
    "    train_history = model.fit(x=X, y=y, epochs=1, batch_size=64);\n",
    "    elapsed_time.append(time.process_time()-t)\n",
    "    _, test_acc_i = model.evaluate(x=Xv, y=yv)\n",
    "    train_acc.append(train_history.history['accuracy'][0])\n",
    "    test_acc.append(test_acc_i)\n",
    "plt.plot(np.vstack(train_acc))\n",
    "plt.plot(np.vstack(test_acc))"
   ]
  },
  {
   "cell_type": "code",
   "execution_count": 92,
   "id": "839a172f-c778-409e-a86c-56a915691a19",
   "metadata": {},
   "outputs": [
    {
     "name": "stdout",
     "output_type": "stream",
     "text": [
      "2.869480199999998 seconds/iteration\n",
      "0.7587500214576721 test accuracy\n"
     ]
    }
   ],
   "source": [
    "print(np.median(elapsed_time), \"seconds/iteration\")\n",
    "print(np.median(test_acc[-5:]), \"test accuracy\")"
   ]
  }
 ],
 "metadata": {
  "kernelspec": {
   "display_name": "Python 3 (ipykernel)",
   "language": "python",
   "name": "python3"
  },
  "language_info": {
   "codemirror_mode": {
    "name": "ipython",
    "version": 3
   },
   "file_extension": ".py",
   "mimetype": "text/x-python",
   "name": "python",
   "nbconvert_exporter": "python",
   "pygments_lexer": "ipython3",
   "version": "3.10.6"
  }
 },
 "nbformat": 4,
 "nbformat_minor": 5
}

{
 "cells": [
  {
   "cell_type": "code",
   "execution_count": 1,
   "id": "318f0f9f-3f2a-49ef-be37-2cf2157169af",
   "metadata": {},
   "outputs": [],
   "source": [
    "import matplotlib.pyplot as plt\n",
    "import time"
   ]
  },
  {
   "cell_type": "code",
   "execution_count": 2,
   "id": "e552620d-51b5-4e85-98df-ec90cf696c1a",
   "metadata": {},
   "outputs": [
    {
     "name": "stderr",
     "output_type": "stream",
     "text": [
      "2022-12-05 15:53:24.076297: I tensorflow/core/platform/cpu_feature_guard.cc:193] This TensorFlow binary is optimized with oneAPI Deep Neural Network Library (oneDNN) to use the following CPU instructions in performance-critical operations:  AVX2 FMA\n",
      "To enable them in other operations, rebuild TensorFlow with the appropriate compiler flags.\n",
      "2022-12-05 15:53:24.794952: W tensorflow/compiler/xla/stream_executor/platform/default/dso_loader.cc:64] Could not load dynamic library 'libnvinfer.so.7'; dlerror: libnvinfer.so.7: cannot open shared object file: No such file or directory\n",
      "2022-12-05 15:53:24.795009: W tensorflow/compiler/xla/stream_executor/platform/default/dso_loader.cc:64] Could not load dynamic library 'libnvinfer_plugin.so.7'; dlerror: libnvinfer_plugin.so.7: cannot open shared object file: No such file or directory\n",
      "2022-12-05 15:53:24.795016: W tensorflow/compiler/tf2tensorrt/utils/py_utils.cc:38] TF-TRT Warning: Cannot dlopen some TensorRT libraries. If you would like to use Nvidia GPU with TensorRT, please make sure the missing libraries mentioned above are installed properly.\n"
     ]
    }
   ],
   "source": [
    "from common_functions import *"
   ]
  },
  {
   "cell_type": "code",
   "execution_count": 15,
   "id": "ac1b835b-f727-4da8-896d-49ddabf8027b",
   "metadata": {},
   "outputs": [
    {
     "name": "stdout",
     "output_type": "stream",
     "text": [
      "Found 8000 files belonging to 8 classes.\n",
      "Using 6400 files for training.\n",
      "Using 1600 files for validation.\n"
     ]
    }
   ],
   "source": [
    "# codebook = np.load('transformed_data/codebook.npy')\n",
    "C = np.load('transformed_data/C.npy')\n",
    "Cv = np.load('transformed_data/Cv.npy')\n",
    "# L = np.load('transformed_data/L.npy')\n",
    "# Lv = np.load('transformed_data/Lv.npy')\n",
    "_, y, _, yv = load_mini_speech_commands()\n",
    "\n",
    "# X, y, Xv, yv = load_mini_speech_commands()\n",
    "# N_train = np.shape(X)[0]\n",
    "# N_test = np.shape(Xv)[0]\n",
    "# from sklearn.cluster import MiniBatchKMeans\n",
    "\n",
    "# kmeans = MiniBatchKMeans(n_clusters=16)\n",
    "# for Xi in X:\n",
    "#     v = np.reshape(im2col(Xi),(64*64,4))\n",
    "#     kmeans.partial_fit(v)\n",
    "# codebook = kmeans.cluster_centers_\n",
    "# np.save('transformed_data/codebook',codebook)\n",
    "\n",
    "# # Encode\n",
    "# C = np.zeros((N_train,64,64,4),dtype='int8')\n",
    "# Cv = np.zeros((N_test,64,64,4),dtype='int8')\n",
    "# for idx in range(N_train):\n",
    "#     C[idx] = 2*VQ_encode_STFT(X[idx],codebook)-1\n",
    "# for idx in range(N_test):\n",
    "#     Cv[idx] = 2*VQ_encode_STFT(Xv[idx],codebook)-1\n",
    "# np.save('transformed_data/C',C)\n",
    "# np.save('transformed_data/Cv',Cv)\n",
    "\n",
    "# # Decode\n",
    "# L = np.zeros(np.shape(X))\n",
    "# Lv = np.zeros(np.shape(Xv))\n",
    "# for idx in range(N_train):\n",
    "#     L[idx] = VQ_decode_STFT(((C[idx]+1)//2).astype('int8'),codebook)\n",
    "# for idx in range(N_test):\n",
    "#     Lv[idx] = VQ_decode_STFT(((Cv[idx]+1)//2).astype('int8'),codebook)\n",
    "# np.save('transformed_data/L',L)\n",
    "# np.save('transformed_data/Lv',Lv)"
   ]
  },
  {
   "cell_type": "code",
   "execution_count": 57,
   "id": "f16d19c8-bdc8-41bf-a00f-daaff7c2b414",
   "metadata": {},
   "outputs": [
    {
     "name": "stdout",
     "output_type": "stream",
     "text": [
      "+sequential_17 stats--------------------------------------------------------------------+\n",
      "| Layer                   Input prec.           Outputs  # 32-bit   Memory  32-bit MACs |\n",
      "|                               (bit)                         x 1     (kB)              |\n",
      "+---------------------------------------------------------------------------------------+\n",
      "| batch_normalization_20            -   (-1, 64, 64, 4)         8     0.03            0 |\n",
      "| quant_conv2d_19                   1  (-1, 62, 62, 32)      1184     4.62      4428288 |\n",
      "| max_pooling2d_24                  -  (-1, 31, 31, 32)         0        0            0 |\n",
      "| quant_conv2d_20                   -  (-1, 29, 29, 64)     18496    72.25     15501312 |\n",
      "| max_pooling2d_25                  -  (-1, 14, 14, 64)         0        0            0 |\n",
      "| flatten_17                        -       (-1, 12544)         0        0            0 |\n",
      "| quant_dense_32                    -         (-1, 128)   1605760  6272.50      1605632 |\n",
      "| quant_dense_33                    -           (-1, 8)      1032     4.03         1024 |\n",
      "+---------------------------------------------------------------------------------------+\n",
      "| Total                                                   1626480  6353.44     21536256 |\n",
      "+---------------------------------------------------------------------------------------+\n",
      "+sequential_17 summary--------------------+\n",
      "| Total params                   1.63 M   |\n",
      "| Trainable params               1.63 M   |\n",
      "| Non-trainable params           8        |\n",
      "| Model size                     6.20 MiB |\n",
      "| Model size (8-bit FP weights)  1.55 MiB |\n",
      "| Float-32 Equivalent            6.20 MiB |\n",
      "| Compression Ratio of Memory    1.00     |\n",
      "| Number of MACs                 21.5 M   |\n",
      "+-----------------------------------------+\n"
     ]
    }
   ],
   "source": [
    "model = models.Sequential([\n",
    "    layers.Input(shape=(64,64,4)),\n",
    "    layers.BatchNormalization(),\n",
    "    lq.layers.QuantConv2D(32, 3, activation='relu',input_quantizer=\"ste_sign\"),\n",
    "    layers.MaxPooling2D(pool_size=(2,2)),\n",
    "    lq.layers.QuantConv2D(64, 3, activation='relu'),\n",
    "    layers.MaxPooling2D(pool_size=(2,2)),\n",
    "    layers.Flatten(),\n",
    "    lq.layers.QuantDense(128, activation='relu'),\n",
    "    lq.layers.QuantDense(8),\n",
    "])\n",
    "lq.models.summary(model)"
   ]
  },
  {
   "cell_type": "code",
   "execution_count": 58,
   "id": "2c475c47-a271-47ae-b61c-28306330f422",
   "metadata": {},
   "outputs": [],
   "source": [
    "model.compile(\n",
    "    optimizer=tf.keras.optimizers.Adam(),\n",
    "    loss=tf.keras.losses.SparseCategoricalCrossentropy(from_logits=True),\n",
    "    metrics=['accuracy'],\n",
    ")"
   ]
  },
  {
   "cell_type": "code",
   "execution_count": 59,
   "id": "75f02840-d4fd-464a-969d-7eb8986fe1b6",
   "metadata": {},
   "outputs": [],
   "source": [
    "train_acc = [];\n",
    "test_acc = [];\n",
    "elapsed_time = [];"
   ]
  },
  {
   "cell_type": "code",
   "execution_count": 60,
   "id": "849dff1b-2a28-4f7d-9e12-8c695f5e44e8",
   "metadata": {},
   "outputs": [
    {
     "name": "stdout",
     "output_type": "stream",
     "text": [
      "100/100 [==============================] - 2s 8ms/step - loss: 2.0107 - accuracy: 0.2209\n",
      "50/50 [==============================] - 0s 3ms/step - loss: 1.6414 - accuracy: 0.3988\n",
      "100/100 [==============================] - 1s 8ms/step - loss: 1.4272 - accuracy: 0.4791\n",
      "50/50 [==============================] - 0s 3ms/step - loss: 1.2004 - accuracy: 0.5519\n",
      "100/100 [==============================] - 1s 7ms/step - loss: 1.0239 - accuracy: 0.6223\n",
      "50/50 [==============================] - 0s 3ms/step - loss: 0.9433 - accuracy: 0.6606\n",
      "100/100 [==============================] - 1s 7ms/step - loss: 0.7637 - accuracy: 0.7191\n",
      "50/50 [==============================] - 0s 3ms/step - loss: 0.8554 - accuracy: 0.6719\n",
      "100/100 [==============================] - 1s 7ms/step - loss: 0.5760 - accuracy: 0.7975\n",
      "50/50 [==============================] - 0s 3ms/step - loss: 0.8396 - accuracy: 0.7006\n",
      "100/100 [==============================] - 1s 8ms/step - loss: 0.3861 - accuracy: 0.8677\n",
      "50/50 [==============================] - 0s 3ms/step - loss: 0.9027 - accuracy: 0.7063\n",
      "100/100 [==============================] - 1s 7ms/step - loss: 0.2147 - accuracy: 0.9339\n",
      "50/50 [==============================] - 0s 3ms/step - loss: 0.9452 - accuracy: 0.7000\n",
      "100/100 [==============================] - 1s 7ms/step - loss: 0.1072 - accuracy: 0.9734\n",
      "50/50 [==============================] - 0s 4ms/step - loss: 0.9880 - accuracy: 0.7188\n",
      "100/100 [==============================] - 1s 7ms/step - loss: 0.0515 - accuracy: 0.9898\n",
      "50/50 [==============================] - 0s 3ms/step - loss: 1.1358 - accuracy: 0.7150\n",
      "100/100 [==============================] - 1s 8ms/step - loss: 0.0234 - accuracy: 0.9959\n",
      "50/50 [==============================] - 0s 3ms/step - loss: 1.1826 - accuracy: 0.7219\n",
      "100/100 [==============================] - 1s 7ms/step - loss: 0.0113 - accuracy: 0.9975\n",
      "50/50 [==============================] - 0s 3ms/step - loss: 1.2555 - accuracy: 0.7212\n",
      "100/100 [==============================] - 1s 8ms/step - loss: 0.0088 - accuracy: 0.9981\n",
      "50/50 [==============================] - 0s 3ms/step - loss: 1.2801 - accuracy: 0.7294\n",
      "100/100 [==============================] - 1s 7ms/step - loss: 0.0077 - accuracy: 0.9975\n",
      "50/50 [==============================] - 0s 4ms/step - loss: 1.3205 - accuracy: 0.7200\n",
      "100/100 [==============================] - 1s 8ms/step - loss: 0.0071 - accuracy: 0.9978\n",
      "50/50 [==============================] - 0s 3ms/step - loss: 1.3510 - accuracy: 0.7219\n",
      "100/100 [==============================] - 1s 8ms/step - loss: 0.0069 - accuracy: 0.9977\n",
      "50/50 [==============================] - 0s 3ms/step - loss: 1.3831 - accuracy: 0.7225\n"
     ]
    },
    {
     "data": {
      "text/plain": [
       "[<matplotlib.lines.Line2D at 0x7f8039d86f20>]"
      ]
     },
     "execution_count": 60,
     "metadata": {},
     "output_type": "execute_result"
    },
    {
     "data": {
      "image/png": "[encoded data removed]",
      "text/plain": [
       "<Figure size 640x480 with 1 Axes>"
      ]
     },
     "metadata": {},
     "output_type": "display_data"
    }
   ],
   "source": [
    "for i_iter in range(15):\n",
    "    t = time.process_time()\n",
    "    train_history = model.fit(x=C, y=y, epochs=1, batch_size=64);\n",
    "    elapsed_time.append(time.process_time()-t)\n",
    "    _, test_acc_i = model.evaluate(x=Cv, y=yv)\n",
    "    train_acc.append(train_history.history['accuracy'][0])\n",
    "    test_acc.append(test_acc_i)\n",
    "plt.plot(np.vstack(train_acc))\n",
    "plt.plot(np.vstack(test_acc))"
   ]
  },
  {
   "cell_type": "code",
   "execution_count": 62,
   "id": "839a172f-c778-409e-a86c-56a915691a19",
   "metadata": {},
   "outputs": [
    {
     "name": "stdout",
     "output_type": "stream",
     "text": [
      "1.105548300999999 seconds/iteration\n",
      "0.721875011920929 test accuracy\n"
     ]
    }
   ],
   "source": [
    "print(np.median(elapsed_time), \"seconds/iteration\")\n",
    "print(np.median(test_acc[-5:]), \"test accuracy\")"
   ]
  }
 ],
 "metadata": {
  "kernelspec": {
   "display_name": "Python 3 (ipykernel)",
   "language": "python",
   "name": "python3"
  },
  "language_info": {
   "codemirror_mode": {
    "name": "ipython",
    "version": 3
   },
   "file_extension": ".py",
   "mimetype": "text/x-python",
   "name": "python",
   "nbconvert_exporter": "python",
   "pygments_lexer": "ipython3",
   "version": "3.10.6"
  }
 },
 "nbformat": 4,
 "nbformat_minor": 5
}

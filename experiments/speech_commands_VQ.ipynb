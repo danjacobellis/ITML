{
 "cells": [
  {
   "cell_type": "code",
   "execution_count": 1,
   "id": "318f0f9f-3f2a-49ef-be37-2cf2157169af",
   "metadata": {},
   "outputs": [],
   "source": [
    "import matplotlib.pyplot as plt\n",
    "import time"
   ]
  },
  {
   "cell_type": "code",
   "execution_count": 2,
   "id": "e552620d-51b5-4e85-98df-ec90cf696c1a",
   "metadata": {},
   "outputs": [
    {
     "name": "stderr",
     "output_type": "stream",
     "text": [
      "2022-12-05 13:42:43.583190: I tensorflow/core/platform/cpu_feature_guard.cc:193] This TensorFlow binary is optimized with oneAPI Deep Neural Network Library (oneDNN) to use the following CPU instructions in performance-critical operations:  AVX2 FMA\n",
      "To enable them in other operations, rebuild TensorFlow with the appropriate compiler flags.\n",
      "2022-12-05 13:42:44.297361: W tensorflow/compiler/xla/stream_executor/platform/default/dso_loader.cc:64] Could not load dynamic library 'libnvinfer.so.7'; dlerror: libnvinfer.so.7: cannot open shared object file: No such file or directory\n",
      "2022-12-05 13:42:44.297413: W tensorflow/compiler/xla/stream_executor/platform/default/dso_loader.cc:64] Could not load dynamic library 'libnvinfer_plugin.so.7'; dlerror: libnvinfer_plugin.so.7: cannot open shared object file: No such file or directory\n",
      "2022-12-05 13:42:44.297420: W tensorflow/compiler/tf2tensorrt/utils/py_utils.cc:38] TF-TRT Warning: Cannot dlopen some TensorRT libraries. If you would like to use Nvidia GPU with TensorRT, please make sure the missing libraries mentioned above are installed properly.\n"
     ]
    }
   ],
   "source": [
    "from common_functions import *"
   ]
  },
  {
   "cell_type": "code",
   "execution_count": 11,
   "id": "ac1b835b-f727-4da8-896d-49ddabf8027b",
   "metadata": {},
   "outputs": [
    {
     "name": "stdout",
     "output_type": "stream",
     "text": [
      "Found 8000 files belonging to 8 classes.\n",
      "Using 6400 files for training.\n",
      "Using 1600 files for validation.\n"
     ]
    }
   ],
   "source": [
    "# codebook = np.load('transformed_data/codebook.npy')\n",
    "# C = np.load('transformed_data/C.npy')\n",
    "# Cv = np.load('transformed_data/Cv.npy')\n",
    "L = np.load('transformed_data/L.npy')\n",
    "Lv = np.load('transformed_data/Lv.npy')\n",
    "_, y, _, yv = load_mini_speech_commands()\n",
    "\n",
    "# X, y, Xv, yv = load_mini_speech_commands()\n",
    "# N_train = np.shape(X)[0]\n",
    "# N_test = np.shape(Xv)[0]\n",
    "# from sklearn.cluster import MiniBatchKMeans\n",
    "\n",
    "# kmeans = MiniBatchKMeans(n_clusters=16)\n",
    "# for Xi in X:\n",
    "#     v = np.reshape(im2col(Xi),(64*64,4))\n",
    "#     kmeans.partial_fit(v)\n",
    "# codebook = kmeans.cluster_centers_\n",
    "# np.save('transformed_data/codebook',codebook)\n",
    "\n",
    "# # Encode\n",
    "# C = np.zeros((N_train,64,64,4),dtype='int8')\n",
    "# Cv = np.zeros((N_test,64,64,4),dtype='int8')\n",
    "# for idx in range(N_train):\n",
    "#     C[idx] = 2*VQ_encode_STFT(X[idx],codebook)-1\n",
    "# for idx in range(N_test):\n",
    "#     Cv[idx] = 2*VQ_encode_STFT(Xv[idx],codebook)-1\n",
    "# np.save('transformed_data/C',C)\n",
    "# np.save('transformed_data/Cv',Cv)\n",
    "\n",
    "# # Decode\n",
    "# L = np.zeros(np.shape(X))\n",
    "# Lv = np.zeros(np.shape(Xv))\n",
    "# for idx in range(N_train):\n",
    "#     L[idx] = VQ_decode_STFT(((C[idx]+1)//2).astype('int8'),codebook)\n",
    "# for idx in range(N_test):\n",
    "#     Lv[idx] = VQ_decode_STFT(((Cv[idx]+1)//2).astype('int8'),codebook)\n",
    "# np.save('transformed_data/L',L)\n",
    "# np.save('transformed_data/Lv',Lv)"
   ]
  },
  {
   "cell_type": "code",
   "execution_count": 12,
   "id": "f16d19c8-bdc8-41bf-a00f-daaff7c2b414",
   "metadata": {},
   "outputs": [
    {
     "name": "stdout",
     "output_type": "stream",
     "text": [
      "Model: \"sequential_3\"\n",
      "_________________________________________________________________\n",
      " Layer (type)                Output Shape              Param #   \n",
      "=================================================================\n",
      " batch_normalization_3 (Batc  (None, 128, 128, 1)      4         \n",
      " hNormalization)                                                 \n",
      "                                                                 \n",
      " conv2d_6 (Conv2D)           (None, 126, 126, 32)      320       \n",
      "                                                                 \n",
      " max_pooling2d_6 (MaxPooling  (None, 63, 63, 32)       0         \n",
      " 2D)                                                             \n",
      "                                                                 \n",
      " conv2d_7 (Conv2D)           (None, 61, 61, 64)        18496     \n",
      "                                                                 \n",
      " max_pooling2d_7 (MaxPooling  (None, 30, 30, 64)       0         \n",
      " 2D)                                                             \n",
      "                                                                 \n",
      " flatten_3 (Flatten)         (None, 57600)             0         \n",
      "                                                                 \n",
      " dense_6 (Dense)             (None, 128)               7372928   \n",
      "                                                                 \n",
      " dense_7 (Dense)             (None, 8)                 1032      \n",
      "                                                                 \n",
      "=================================================================\n",
      "Total params: 7,392,780\n",
      "Trainable params: 7,392,778\n",
      "Non-trainable params: 2\n",
      "_________________________________________________________________\n"
     ]
    }
   ],
   "source": [
    "model = models.Sequential([\n",
    "    layers.Input(shape=(128,128,1)),\n",
    "    layers.BatchNormalization(),\n",
    "    layers.Conv2D(32, 3, activation='relu'),\n",
    "    layers.MaxPooling2D(pool_size=(2,2)),\n",
    "    layers.Conv2D(64, 3, activation='relu'),\n",
    "    layers.MaxPooling2D(pool_size=(2,2)),\n",
    "    layers.Flatten(),\n",
    "    layers.Dense(128, activation='relu'),\n",
    "    layers.Dense(8),\n",
    "])\n",
    "\n",
    "model.summary()"
   ]
  },
  {
   "cell_type": "code",
   "execution_count": 13,
   "id": "2c475c47-a271-47ae-b61c-28306330f422",
   "metadata": {},
   "outputs": [],
   "source": [
    "model.compile(\n",
    "    optimizer=tf.keras.optimizers.Adam(),\n",
    "    loss=tf.keras.losses.SparseCategoricalCrossentropy(from_logits=True),\n",
    "    metrics=['accuracy'],\n",
    ")"
   ]
  },
  {
   "cell_type": "code",
   "execution_count": 14,
   "id": "75f02840-d4fd-464a-969d-7eb8986fe1b6",
   "metadata": {},
   "outputs": [],
   "source": [
    "train_acc = [];\n",
    "test_acc = [];\n",
    "elapsed_time = [];"
   ]
  },
  {
   "cell_type": "code",
   "execution_count": 15,
   "id": "849dff1b-2a28-4f7d-9e12-8c695f5e44e8",
   "metadata": {},
   "outputs": [
    {
     "name": "stderr",
     "output_type": "stream",
     "text": [
      "2022-12-05 13:45:17.890847: I tensorflow/compiler/xla/stream_executor/cuda/cuda_dnn.cc:428] Loaded cuDNN version 8700\n",
      "2022-12-05 13:45:18.429634: I tensorflow/tsl/platform/default/subprocess.cc:304] Start cannot spawn child process: No such file or directory\n",
      "2022-12-05 13:45:18.590070: I tensorflow/compiler/xla/service/service.cc:173] XLA service 0x7f7c0d90beb0 initialized for platform CUDA (this does not guarantee that XLA will be used). Devices:\n",
      "2022-12-05 13:45:18.590097: I tensorflow/compiler/xla/service/service.cc:181]   StreamExecutor device (0): NVIDIA GeForce RTX 2060, Compute Capability 7.5\n",
      "2022-12-05 13:45:18.594874: I tensorflow/compiler/mlir/tensorflow/utils/dump_mlir_util.cc:268] disabling MLIR crash reproducer, set env var `MLIR_CRASH_REPRODUCER_DIRECTORY` to enable.\n",
      "2022-12-05 13:45:18.668066: I tensorflow/tsl/platform/default/subprocess.cc:304] Start cannot spawn child process: No such file or directory\n",
      "2022-12-05 13:45:18.737363: I tensorflow/compiler/jit/xla_compilation_cache.cc:477] Compiled cluster using XLA!  This line is logged at most once for the lifetime of the process.\n"
     ]
    },
    {
     "name": "stdout",
     "output_type": "stream",
     "text": [
      "100/100 [==============================] - 6s 20ms/step - loss: 1.7333 - accuracy: 0.3861\n",
      "50/50 [==============================] - 0s 4ms/step - loss: 1.5003 - accuracy: 0.5575\n",
      "100/100 [==============================] - 2s 20ms/step - loss: 0.9204 - accuracy: 0.6881\n",
      "50/50 [==============================] - 0s 4ms/step - loss: 0.9813 - accuracy: 0.6994\n",
      "100/100 [==============================] - 2s 20ms/step - loss: 0.4975 - accuracy: 0.8380\n",
      "50/50 [==============================] - 0s 4ms/step - loss: 0.8509 - accuracy: 0.7256\n",
      "100/100 [==============================] - 2s 20ms/step - loss: 0.2460 - accuracy: 0.9212\n",
      "50/50 [==============================] - 0s 4ms/step - loss: 0.9143 - accuracy: 0.7369\n",
      "100/100 [==============================] - 2s 20ms/step - loss: 0.1329 - accuracy: 0.9603\n",
      "50/50 [==============================] - 0s 4ms/step - loss: 1.0656 - accuracy: 0.7319\n",
      "100/100 [==============================] - 2s 20ms/step - loss: 0.0797 - accuracy: 0.9781\n",
      "50/50 [==============================] - 0s 4ms/step - loss: 1.2826 - accuracy: 0.7494\n",
      "100/100 [==============================] - 2s 20ms/step - loss: 0.0615 - accuracy: 0.9827\n",
      "50/50 [==============================] - 0s 4ms/step - loss: 1.3353 - accuracy: 0.7531\n",
      "100/100 [==============================] - 2s 20ms/step - loss: 0.0643 - accuracy: 0.9808\n",
      "50/50 [==============================] - 0s 4ms/step - loss: 1.4703 - accuracy: 0.7362\n",
      "100/100 [==============================] - 2s 20ms/step - loss: 0.0677 - accuracy: 0.9814\n",
      "50/50 [==============================] - 0s 5ms/step - loss: 1.7208 - accuracy: 0.7063\n",
      "100/100 [==============================] - 2s 20ms/step - loss: 0.0631 - accuracy: 0.9839\n",
      "50/50 [==============================] - 0s 4ms/step - loss: 1.5628 - accuracy: 0.7375\n",
      "100/100 [==============================] - 2s 20ms/step - loss: 0.0481 - accuracy: 0.9881\n",
      "50/50 [==============================] - 0s 4ms/step - loss: 2.1197 - accuracy: 0.7287\n",
      "100/100 [==============================] - 2s 20ms/step - loss: 0.0472 - accuracy: 0.9862\n",
      "50/50 [==============================] - 0s 6ms/step - loss: 1.9817 - accuracy: 0.7362\n",
      "100/100 [==============================] - 2s 20ms/step - loss: 0.0290 - accuracy: 0.9927\n",
      "50/50 [==============================] - 0s 4ms/step - loss: 2.0566 - accuracy: 0.7325\n",
      "100/100 [==============================] - 2s 20ms/step - loss: 0.0825 - accuracy: 0.9828\n",
      "50/50 [==============================] - 0s 4ms/step - loss: 1.7882 - accuracy: 0.7156\n",
      "100/100 [==============================] - 2s 20ms/step - loss: 0.0590 - accuracy: 0.9852\n",
      "50/50 [==============================] - 0s 4ms/step - loss: 1.8762 - accuracy: 0.7262\n"
     ]
    },
    {
     "data": {
      "text/plain": [
       "[<matplotlib.lines.Line2D at 0x7f813813a8c0>]"
      ]
     },
     "execution_count": 15,
     "metadata": {},
     "output_type": "execute_result"
    },
    {
     "data": {
      "image/png": "[encoded data removed]",
      "text/plain": [
       "<Figure size 640x480 with 1 Axes>"
      ]
     },
     "metadata": {},
     "output_type": "display_data"
    }
   ],
   "source": [
    "for i_iter in range(15):\n",
    "    t = time.process_time()\n",
    "    train_history = model.fit(x=L, y=y, epochs=1, batch_size=64);\n",
    "    elapsed_time.append(time.process_time()-t)\n",
    "    _, test_acc_i = model.evaluate(x=Lv, y=yv)\n",
    "    train_acc.append(train_history.history['accuracy'][0])\n",
    "    test_acc.append(test_acc_i)\n",
    "plt.plot(np.vstack(train_acc))\n",
    "plt.plot(np.vstack(test_acc))"
   ]
  },
  {
   "cell_type": "code",
   "execution_count": 16,
   "id": "839a172f-c778-409e-a86c-56a915691a19",
   "metadata": {},
   "outputs": [
    {
     "name": "stdout",
     "output_type": "stream",
     "text": [
      "2.8489068060000022 seconds/iteration\n",
      "0.7287499904632568 test accuracy\n"
     ]
    }
   ],
   "source": [
    "print(np.median(elapsed_time), \"seconds/iteration\")\n",
    "print(np.median(test_acc[-5:]), \"test accuracy\")"
   ]
  }
 ],
 "metadata": {
  "kernelspec": {
   "display_name": "Python 3 (ipykernel)",
   "language": "python",
   "name": "python3"
  },
  "language_info": {
   "codemirror_mode": {
    "name": "ipython",
    "version": 3
   },
   "file_extension": ".py",
   "mimetype": "text/x-python",
   "name": "python",
   "nbconvert_exporter": "python",
   "pygments_lexer": "ipython3",
   "version": "3.10.6"
  }
 },
 "nbformat": 4,
 "nbformat_minor": 5
}

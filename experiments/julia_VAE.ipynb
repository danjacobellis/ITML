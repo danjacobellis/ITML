{
 "cells": [
  {
   "cell_type": "code",
   "execution_count": 1,
   "id": "525dd19d-296b-45d6-b6ac-c1db6c12a392",
   "metadata": {},
   "outputs": [],
   "source": [
    "using BSON\n",
    "using CUDA\n",
    "using DrWatson: struct2dict\n",
    "using Flux\n",
    "using Flux: @functor, chunk\n",
    "using Flux.Losses: logitbinarycrossentropy\n",
    "using Flux.Data: DataLoader\n",
    "using Images\n",
    "using Logging: with_logger\n",
    "using MLDatasets\n",
    "using Parameters: @with_kw\n",
    "using ProgressMeter: Progress, next!\n",
    "using Random\n",
    "using Plots"
   ]
  },
  {
   "cell_type": "code",
   "execution_count": 2,
   "id": "a176eb43-202e-4b72-8d3d-ad52a98059c1",
   "metadata": {},
   "outputs": [
    {
     "data": {
      "text/plain": [
       "Args"
      ]
     },
     "execution_count": 2,
     "metadata": {},
     "output_type": "execute_result"
    }
   ],
   "source": [
    "@with_kw mutable struct Args\n",
    "    η = 1e-3                # learning rate\n",
    "    λ = 0.01f0              # regularization paramater\n",
    "    batch_size = 128        # batch size\n",
    "    sample_size = 10        # sampling size for output    \n",
    "    epochs = 20             # number of epochs\n",
    "    seed = 0                # random seed\n",
    "    cuda = true             # use GPU\n",
    "    input_dim = 28^2        # image size\n",
    "    latent_dim = 2          # latent dimension\n",
    "    hidden_dim = 500        # hidden dimension\n",
    "    verbose_freq = 10       # logging for every verbose_freq iterations\n",
    "    save_path = \"output\"    # results path\n",
    "end"
   ]
  },
  {
   "cell_type": "code",
   "execution_count": 11,
   "id": "e066fcfd-f03e-487c-83f9-78b1f0e53216",
   "metadata": {},
   "outputs": [
    {
     "data": {
      "text/plain": [
       "convert_to_image (generic function with 1 method)"
      ]
     },
     "execution_count": 11,
     "metadata": {},
     "output_type": "execute_result"
    }
   ],
   "source": [
    "function get_data(batch_size)\n",
    "    xtrain, ytrain = MLDatasets.MNIST(:train)[:]\n",
    "    xtrain = reshape(xtrain, 28^2, :)\n",
    "    DataLoader((xtrain, ytrain), batchsize=batch_size, shuffle=true)\n",
    "end\n",
    "\n",
    "struct Encoder\n",
    "    linear\n",
    "    μ\n",
    "    logσ\n",
    "end\n",
    "@functor Encoder\n",
    "    \n",
    "Encoder(input_dim::Int, latent_dim::Int, hidden_dim::Int) = Encoder(\n",
    "    Dense(input_dim, hidden_dim, tanh),   # linear\n",
    "    Dense(hidden_dim, latent_dim),        # μ\n",
    "    Dense(hidden_dim, latent_dim),        # logσ\n",
    ")\n",
    "\n",
    "function (encoder::Encoder)(x)\n",
    "    h = encoder.linear(x)\n",
    "    encoder.μ(h), encoder.logσ(h)\n",
    "end\n",
    "\n",
    "Decoder(input_dim::Int, latent_dim::Int, hidden_dim::Int) = Chain(\n",
    "    Dense(latent_dim, hidden_dim, tanh),\n",
    "    Dense(hidden_dim, input_dim)\n",
    ")\n",
    "\n",
    "function reconstuct(encoder, decoder, x)\n",
    "    μ, logσ = encoder(x)\n",
    "    z = μ + gpu(randn(Float32, size(logσ))) .* exp.(logσ)\n",
    "    μ, logσ, decoder(z)\n",
    "end\n",
    "\n",
    "function model_loss(encoder, decoder, λ, x)\n",
    "    μ, logσ, decoder_z = reconstuct(encoder, decoder, x)\n",
    "    len = size(x)[end]\n",
    "    # KL-divergence\n",
    "    kl_q_p = 0.5f0 * sum(@. (exp(2f0 * logσ) + μ^2 -1f0 - 2f0 * logσ)) / len\n",
    "\n",
    "    logp_x_z = -logitbinarycrossentropy(decoder_z, x, agg=sum) / len\n",
    "    # regularization\n",
    "    reg = λ * sum(x->sum(x.^2), Flux.params(decoder))\n",
    "    \n",
    "    -logp_x_z + kl_q_p + reg\n",
    "end\n",
    "\n",
    "function convert_to_image(x, y_size)\n",
    "    Gray.(permutedims(vcat(reshape.(chunk(x |> cpu, y_size), 28, :)...), (2, 1)))\n",
    "end"
   ]
  },
  {
   "cell_type": "code",
   "execution_count": 12,
   "id": "63fd5a20-50a8-42aa-9fe4-27cfb4c8ee3a",
   "metadata": {},
   "outputs": [
    {
     "name": "stderr",
     "output_type": "stream",
     "text": [
      "┌ Warning: ProgressMeter by default refresh meters with additional information in IJulia via `IJulia.clear_output`, which clears all outputs in the cell. \n",
      "│  - To prevent this behaviour, do `ProgressMeter.ijulia_behavior(:append)`. \n",
      "│  - To disable this warning message, do `ProgressMeter.ijulia_behavior(:clear)`.\n",
      "└ @ ProgressMeter /home/server/.julia/packages/ProgressMeter/sN2xr/src/ProgressMeter.jl:618\n",
      "\u001b[32mProgress: 100%|█████████████████████████████████████████| Time: 0:00:01\u001b[39m\n",
      "\u001b[34m  loss:  173.68097\u001b[39m\n",
      "┌ Info: Image saved: output/epoch_20.png\n",
      "└ @ Main In[12]:52\n",
      "┌ Info: Model saved: output/model.bson\n",
      "└ @ Main In[12]:59\n"
     ]
    }
   ],
   "source": [
    "# load hyperparamters\n",
    "args = Args(;)\n",
    "args.seed > 0 && Random.seed!(args.seed)\n",
    "\n",
    "# load MNIST images\n",
    "loader = get_data(args.batch_size)\n",
    "\n",
    "# initialize encoder and decoder\n",
    "encoder = Encoder(args.input_dim, args.latent_dim, args.hidden_dim) |> gpu\n",
    "decoder = Decoder(args.input_dim, args.latent_dim, args.hidden_dim) |> gpu\n",
    "\n",
    "# ADAM optimizer\n",
    "opt = ADAM(args.η)\n",
    "\n",
    "# parameters\n",
    "ps = Flux.params(encoder.linear, encoder.μ, encoder.logσ, decoder)\n",
    "\n",
    "!ispath(args.save_path) && mkpath(args.save_path)\n",
    "\n",
    "# fixed input\n",
    "original, _ = first(get_data(args.sample_size^2))\n",
    "original = original |> gpu\n",
    "image = convert_to_image(original, args.sample_size)\n",
    "image_path = joinpath(args.save_path, \"original.png\")\n",
    "save(image_path, image)\n",
    "\n",
    "# training\n",
    "train_steps = 0\n",
    "@info \"Start Training, total $(args.epochs) epochs\"\n",
    "for epoch = 1:args.epochs\n",
    "    @info \"Epoch $(epoch)\"\n",
    "    progress = Progress(length(loader))\n",
    "\n",
    "    for (x, _) in loader \n",
    "        loss, back = Flux.pullback(ps) do\n",
    "            model_loss(encoder, decoder, args.λ, x |> gpu)\n",
    "        end\n",
    "        grad = back(1f0)\n",
    "        Flux.Optimise.update!(opt, ps, grad)\n",
    "        # progress meter\n",
    "        next!(progress; showvalues=[(:loss, loss)]) \n",
    "\n",
    "        train_steps += 1\n",
    "    end\n",
    "    \n",
    "    # save image\n",
    "    _, _, rec_original = reconstuct(encoder, decoder, original)\n",
    "    rec_original = sigmoid.(rec_original)\n",
    "    image = convert_to_image(rec_original, args.sample_size)\n",
    "    image_path = joinpath(args.save_path, \"epoch_$(epoch).png\")\n",
    "    save(image_path, image)\n",
    "    @info \"Image saved: $(image_path)\"\n",
    "end\n",
    "\n",
    "# save model\n",
    "model_path = joinpath(args.save_path, \"model.bson\") \n",
    "let encoder = cpu(encoder), decoder = cpu(decoder), args=struct2dict(args)\n",
    "    BSON.@save model_path encoder decoder args\n",
    "    @info \"Model saved: $(model_path)\"\n",
    "end"
   ]
  },
  {
   "cell_type": "code",
   "execution_count": 13,
   "id": "9b07d5f7-97f8-4e9e-8322-c56f0491d39e",
   "metadata": {},
   "outputs": [
    {
     "data": {
      "text/plain": [
       "DataLoader{Tuple{Matrix{Float32}, Vector{Int64}}, Random._GLOBAL_RNG, Val{nothing}}((Float32[0.0 0.0 … 0.0 0.0; 0.0 0.0 … 0.0 0.0; … ; 0.0 0.0 … 0.0 0.0; 0.0 0.0 … 0.0 0.0], [5, 0, 4, 1, 9, 2, 1, 3, 1, 4  …  9, 2, 9, 5, 1, 8, 3, 5, 6, 8]), 128, false, true, true, false, Val{nothing}(), Random._GLOBAL_RNG())"
      ]
     },
     "execution_count": 13,
     "metadata": {},
     "output_type": "execute_result"
    }
   ],
   "source": [
    "BSON.@load \"output/model.bson\" encoder decoder args\n",
    "args = Args(; args...)\n",
    "encoder, decoder = encoder |> gpu, decoder |> gpu\n",
    "# load MNIST images\n",
    "loader = get_data(args.batch_size)"
   ]
  },
  {
   "cell_type": "code",
   "execution_count": 15,
   "id": "495571d8-3618-4cf6-add8-a560a1b66f3d",
   "metadata": {},
   "outputs": [
    {
     "name": "stderr",
     "output_type": "stream",
     "text": [
      "┌ Warning: Performing scalar indexing on task Task (runnable) @0x00007f88db2508b0.\n",
      "│ Invocation of getindex resulted in scalar indexing of a GPU array.\n",
      "│ This is typically caused by calling an iterating implementation of a method.\n",
      "│ Such implementations *do not* execute on the GPU, but very slowly on the CPU,\n",
      "│ and therefore are only permitted from the REPL for prototyping purposes.\n",
      "│ If you did intend to index this array, annotate the caller with @allowscalar.\n",
      "└ @ GPUArraysCore /home/server/.julia/packages/GPUArraysCore/lojQM/src/GPUArraysCore.jl:90\n"
     ]
    }
   ],
   "source": [
    "# clustering in the latent space\n",
    "# visualize first two dims\n",
    "plt = scatter(palette=:rainbow)\n",
    "for (i, (x, y)) in enumerate(loader)\n",
    "    i < 20 || break\n",
    "    μ, logσ = encoder(x |> gpu)\n",
    "    scatter!(μ[1, :], μ[2, :], \n",
    "        markerstrokewidth=0, markeralpha=0.8,\n",
    "        aspect_ratio=1,\n",
    "        markercolor=y, label=\"\")\n",
    "end\n",
    "savefig(plt, \"output/clustering.png\")"
   ]
  },
  {
   "cell_type": "code",
   "execution_count": 16,
   "id": "800a4e21-e0f0-4086-822b-77f5b6f74240",
   "metadata": {},
   "outputs": [],
   "source": [
    "z = range(-2.0, stop=2.0, length=11)\n",
    "len = Base.length(z)\n",
    "z1 = repeat(z, len)\n",
    "z2 = sort(z1)\n",
    "x = zeros(Float32, args.latent_dim, len^2) |> gpu\n",
    "x[1, :] = z1\n",
    "x[2, :] = z2\n",
    "samples = decoder(x)\n",
    "samples = sigmoid.(samples)\n",
    "image = convert_to_image(samples, len)\n",
    "save(\"output/manifold.png\", image)"
   ]
  }
 ],
 "metadata": {
  "kernelspec": {
   "display_name": "Julia 1.8.1",
   "language": "julia",
   "name": "julia-1.8"
  },
  "language_info": {
   "file_extension": ".jl",
   "mimetype": "application/julia",
   "name": "julia",
   "version": "1.8.1"
  }
 },
 "nbformat": 4,
 "nbformat_minor": 5
}
